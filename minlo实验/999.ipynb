{
 "cells": [
  {
   "cell_type": "code",
   "execution_count": 4,
   "metadata": {},
   "outputs": [
    {
     "name": "stdout",
     "output_type": "stream",
     "text": [
      "      Unnamed: 0  Unnamed: 1  537171049\n",
      "0            NaN         NaN  217161005\n",
      "1            NaN         NaN  622181031\n",
      "2            NaN         NaN  623181052\n",
      "3            NaN         NaN  715181019\n",
      "4            NaN         NaN  343231034\n",
      "...          ...         ...        ...\n",
      "2643         NaN         NaN  550221014\n",
      "2644         NaN         NaN  420221007\n",
      "2645         NaN         NaN  101221168\n",
      "2646         NaN         NaN  101221232\n",
      "2647         NaN         NaN  619231032\n",
      "\n",
      "[2648 rows x 3 columns]\n"
     ]
    }
   ],
   "source": [
    "import pandas as pd\n",
    "\n",
    "file_path='http://192.168.220.132:9000/networkauto/123.xlsx'\n",
    "\n",
    "df=pd.read_excel(file_path)\n",
    "print(df.head(50000))"
   ]
  }
 ],
 "metadata": {
  "kernelspec": {
   "display_name": "Python 3",
   "language": "python",
   "name": "python3"
  },
  "language_info": {
   "codemirror_mode": {
    "name": "ipython",
    "version": 3
   },
   "file_extension": ".py",
   "mimetype": "text/x-python",
   "name": "python",
   "nbconvert_exporter": "python",
   "pygments_lexer": "ipython3",
   "version": "3.11.6"
  }
 },
 "nbformat": 4,
 "nbformat_minor": 2
}
