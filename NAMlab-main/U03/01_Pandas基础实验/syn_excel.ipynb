{
 "cells": [
  {
   "cell_type": "code",
   "id": "initial_id",
   "metadata": {
    "collapsed": true,
    "ExecuteTime": {
     "end_time": "2024-09-07T07:55:18.209533Z",
     "start_time": "2024-09-07T07:55:18.175922Z"
    }
   },
   "source": [
    "import pandas as pd\n",
    "\n",
    "file_path = \"http://192.168.0.145:9000/networkauto/inventory.xlsx\"\n",
    "\n",
    "df = pd.read_excel(file_path)\n",
    "df.head(10)"
   ],
   "outputs": [
    {
     "data": {
      "text/plain": [
       "      设备名称         设备IP   设备厂商 设备系统类型            设备最后备份时间         用户名  \\\n",
       "0  深圳核心交换机     10.1.1.1  Cisco  iosxe   2024.7.1 14:00:01   ciscouser   \n",
       "1  北京边缘交换机    10.12.2.1     华为   vrp8  2024.5.22 20:21:25  huaweiuser   \n",
       "2  香港边缘交换机  10.15.155.3     华为   vrp8   2024.9.7 20:21:25  huaweiuser   \n",
       "3  深圳核心交换机     10.1.1.1  Cisco  iosxe   2024.7.1 14:00:01   ciscouser   \n",
       "4  北京边缘交换机    10.12.2.1     华为   vrp8  2024.5.22 20:21:25  huaweiuser   \n",
       "5  香港边缘交换机  10.15.155.3     华为   vrp8   2024.9.7 20:21:25  huaweiuser   \n",
       "6  深圳核心交换机     10.1.1.1  Cisco  iosxe   2024.7.1 14:00:01   ciscouser   \n",
       "7  北京边缘交换机    10.12.2.1     华为   vrp8  2024.5.22 20:21:25  huaweiuser   \n",
       "8  香港边缘交换机  10.15.155.3     华为   vrp8   2024.9.7 20:21:25  huaweiuser   \n",
       "9  深圳核心交换机     10.1.1.1  Cisco  iosxe   2024.7.1 14:00:01   ciscouser   \n",
       "\n",
       "           密码  \n",
       "0   Cisco@123  \n",
       "1  Huawei@123  \n",
       "2  Huawei@123  \n",
       "3   Cisco@123  \n",
       "4  Huawei@123  \n",
       "5  Huawei@123  \n",
       "6   Cisco@123  \n",
       "7  Huawei@123  \n",
       "8  Huawei@123  \n",
       "9   Cisco@123  "
      ],
      "text/html": [
       "<div>\n",
       "<style scoped>\n",
       "    .dataframe tbody tr th:only-of-type {\n",
       "        vertical-align: middle;\n",
       "    }\n",
       "\n",
       "    .dataframe tbody tr th {\n",
       "        vertical-align: top;\n",
       "    }\n",
       "\n",
       "    .dataframe thead th {\n",
       "        text-align: right;\n",
       "    }\n",
       "</style>\n",
       "<table border=\"1\" class=\"dataframe\">\n",
       "  <thead>\n",
       "    <tr style=\"text-align: right;\">\n",
       "      <th></th>\n",
       "      <th>设备名称</th>\n",
       "      <th>设备IP</th>\n",
       "      <th>设备厂商</th>\n",
       "      <th>设备系统类型</th>\n",
       "      <th>设备最后备份时间</th>\n",
       "      <th>用户名</th>\n",
       "      <th>密码</th>\n",
       "    </tr>\n",
       "  </thead>\n",
       "  <tbody>\n",
       "    <tr>\n",
       "      <th>0</th>\n",
       "      <td>深圳核心交换机</td>\n",
       "      <td>10.1.1.1</td>\n",
       "      <td>Cisco</td>\n",
       "      <td>iosxe</td>\n",
       "      <td>2024.7.1 14:00:01</td>\n",
       "      <td>ciscouser</td>\n",
       "      <td>Cisco@123</td>\n",
       "    </tr>\n",
       "    <tr>\n",
       "      <th>1</th>\n",
       "      <td>北京边缘交换机</td>\n",
       "      <td>10.12.2.1</td>\n",
       "      <td>华为</td>\n",
       "      <td>vrp8</td>\n",
       "      <td>2024.5.22 20:21:25</td>\n",
       "      <td>huaweiuser</td>\n",
       "      <td>Huawei@123</td>\n",
       "    </tr>\n",
       "    <tr>\n",
       "      <th>2</th>\n",
       "      <td>香港边缘交换机</td>\n",
       "      <td>10.15.155.3</td>\n",
       "      <td>华为</td>\n",
       "      <td>vrp8</td>\n",
       "      <td>2024.9.7 20:21:25</td>\n",
       "      <td>huaweiuser</td>\n",
       "      <td>Huawei@123</td>\n",
       "    </tr>\n",
       "    <tr>\n",
       "      <th>3</th>\n",
       "      <td>深圳核心交换机</td>\n",
       "      <td>10.1.1.1</td>\n",
       "      <td>Cisco</td>\n",
       "      <td>iosxe</td>\n",
       "      <td>2024.7.1 14:00:01</td>\n",
       "      <td>ciscouser</td>\n",
       "      <td>Cisco@123</td>\n",
       "    </tr>\n",
       "    <tr>\n",
       "      <th>4</th>\n",
       "      <td>北京边缘交换机</td>\n",
       "      <td>10.12.2.1</td>\n",
       "      <td>华为</td>\n",
       "      <td>vrp8</td>\n",
       "      <td>2024.5.22 20:21:25</td>\n",
       "      <td>huaweiuser</td>\n",
       "      <td>Huawei@123</td>\n",
       "    </tr>\n",
       "    <tr>\n",
       "      <th>5</th>\n",
       "      <td>香港边缘交换机</td>\n",
       "      <td>10.15.155.3</td>\n",
       "      <td>华为</td>\n",
       "      <td>vrp8</td>\n",
       "      <td>2024.9.7 20:21:25</td>\n",
       "      <td>huaweiuser</td>\n",
       "      <td>Huawei@123</td>\n",
       "    </tr>\n",
       "    <tr>\n",
       "      <th>6</th>\n",
       "      <td>深圳核心交换机</td>\n",
       "      <td>10.1.1.1</td>\n",
       "      <td>Cisco</td>\n",
       "      <td>iosxe</td>\n",
       "      <td>2024.7.1 14:00:01</td>\n",
       "      <td>ciscouser</td>\n",
       "      <td>Cisco@123</td>\n",
       "    </tr>\n",
       "    <tr>\n",
       "      <th>7</th>\n",
       "      <td>北京边缘交换机</td>\n",
       "      <td>10.12.2.1</td>\n",
       "      <td>华为</td>\n",
       "      <td>vrp8</td>\n",
       "      <td>2024.5.22 20:21:25</td>\n",
       "      <td>huaweiuser</td>\n",
       "      <td>Huawei@123</td>\n",
       "    </tr>\n",
       "    <tr>\n",
       "      <th>8</th>\n",
       "      <td>香港边缘交换机</td>\n",
       "      <td>10.15.155.3</td>\n",
       "      <td>华为</td>\n",
       "      <td>vrp8</td>\n",
       "      <td>2024.9.7 20:21:25</td>\n",
       "      <td>huaweiuser</td>\n",
       "      <td>Huawei@123</td>\n",
       "    </tr>\n",
       "    <tr>\n",
       "      <th>9</th>\n",
       "      <td>深圳核心交换机</td>\n",
       "      <td>10.1.1.1</td>\n",
       "      <td>Cisco</td>\n",
       "      <td>iosxe</td>\n",
       "      <td>2024.7.1 14:00:01</td>\n",
       "      <td>ciscouser</td>\n",
       "      <td>Cisco@123</td>\n",
       "    </tr>\n",
       "  </tbody>\n",
       "</table>\n",
       "</div>"
      ]
     },
     "execution_count": 2,
     "metadata": {},
     "output_type": "execute_result"
    }
   ],
   "execution_count": 2
  },
  {
   "metadata": {
    "ExecuteTime": {
     "end_time": "2024-09-07T07:55:23.418293Z",
     "start_time": "2024-09-07T07:55:23.411777Z"
    }
   },
   "cell_type": "code",
   "source": "df.shape",
   "id": "6f696f149bfc3d69",
   "outputs": [
    {
     "data": {
      "text/plain": [
       "(12, 7)"
      ]
     },
     "execution_count": 3,
     "metadata": {},
     "output_type": "execute_result"
    }
   ],
   "execution_count": 3
  },
  {
   "metadata": {
    "ExecuteTime": {
     "end_time": "2024-09-07T07:55:29.085748Z",
     "start_time": "2024-09-07T07:55:29.071686Z"
    }
   },
   "cell_type": "code",
   "source": [
    "for index in range(df.shape[0]):\n",
    "    if df['设备最后备份时间'][index].startswith('2024.7.'):\n",
    "        print(df['设备名称'][index])"
   ],
   "id": "b90ef9783804e241",
   "outputs": [
    {
     "name": "stdout",
     "output_type": "stream",
     "text": [
      "深圳核心交换机\n",
      "深圳核心交换机\n",
      "深圳核心交换机\n",
      "深圳核心交换机\n"
     ]
    }
   ],
   "execution_count": 4
  },
  {
   "metadata": {},
   "cell_type": "code",
   "outputs": [],
   "execution_count": null,
   "source": "",
   "id": "32401390faa66c51"
  }
 ],
 "metadata": {
  "kernelspec": {
   "display_name": "Python 3",
   "language": "python",
   "name": "python3"
  },
  "language_info": {
   "codemirror_mode": {
    "name": "ipython",
    "version": 2
   },
   "file_extension": ".py",
   "mimetype": "text/x-python",
   "name": "python",
   "nbconvert_exporter": "python",
   "pygments_lexer": "ipython2",
   "version": "2.7.6"
  }
 },
 "nbformat": 4,
 "nbformat_minor": 5
}
