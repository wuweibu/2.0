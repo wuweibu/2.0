{
 "cells": [
  {
   "cell_type": "markdown",
   "metadata": {},
   "source": [
    "# 神经网络预测流量数据"
   ]
  },
  {
   "cell_type": "code",
   "execution_count": 11,
   "metadata": {},
   "outputs": [],
   "source": [
    "import tensorflow as tf\n",
    "import numpy as np\n",
    "import pandas as pd\n",
    "from matplotlib import pyplot as plt\n",
    "np.set_printoptions(suppress=True)"
   ]
  },
  {
   "cell_type": "markdown",
   "metadata": {},
   "source": [
    "## 1. 载入数据"
   ]
  },
  {
   "cell_type": "code",
   "execution_count": 12,
   "metadata": {
    "scrolled": true
   },
   "outputs": [
    {
     "data": {
      "text/html": [
       "<div>\n",
       "<style scoped>\n",
       "    .dataframe tbody tr th:only-of-type {\n",
       "        vertical-align: middle;\n",
       "    }\n",
       "\n",
       "    .dataframe tbody tr th {\n",
       "        vertical-align: top;\n",
       "    }\n",
       "\n",
       "    .dataframe thead th {\n",
       "        text-align: right;\n",
       "    }\n",
       "</style>\n",
       "<table border=\"1\" class=\"dataframe\">\n",
       "  <thead>\n",
       "    <tr style=\"text-align: right;\">\n",
       "      <th></th>\n",
       "      <th>Flow.ID</th>\n",
       "      <th>Source.IP</th>\n",
       "      <th>Source.Port</th>\n",
       "      <th>Destination.IP</th>\n",
       "      <th>Destination.Port</th>\n",
       "      <th>Protocol</th>\n",
       "      <th>Timestamp</th>\n",
       "      <th>Flow.Duration</th>\n",
       "      <th>Total.Fwd.Packets</th>\n",
       "      <th>Total.Backward.Packets</th>\n",
       "      <th>...</th>\n",
       "      <th>Active.Std</th>\n",
       "      <th>Active.Max</th>\n",
       "      <th>Active.Min</th>\n",
       "      <th>Idle.Mean</th>\n",
       "      <th>Idle.Std</th>\n",
       "      <th>Idle.Max</th>\n",
       "      <th>Idle.Min</th>\n",
       "      <th>Label</th>\n",
       "      <th>L7Protocol</th>\n",
       "      <th>ProtocolName</th>\n",
       "    </tr>\n",
       "  </thead>\n",
       "  <tbody>\n",
       "    <tr>\n",
       "      <th>0</th>\n",
       "      <td>172.19.1.46-10.200.7.7-52422-3128-6</td>\n",
       "      <td>172.19.1.46</td>\n",
       "      <td>52422</td>\n",
       "      <td>10.200.7.7</td>\n",
       "      <td>3128</td>\n",
       "      <td>6</td>\n",
       "      <td>26/04/201711:11:17</td>\n",
       "      <td>45523</td>\n",
       "      <td>22</td>\n",
       "      <td>55</td>\n",
       "      <td>...</td>\n",
       "      <td>0.0</td>\n",
       "      <td>0</td>\n",
       "      <td>0</td>\n",
       "      <td>0.0</td>\n",
       "      <td>0.0</td>\n",
       "      <td>0</td>\n",
       "      <td>0</td>\n",
       "      <td>BENIGN</td>\n",
       "      <td>131</td>\n",
       "      <td>HTTP_PROXY</td>\n",
       "    </tr>\n",
       "    <tr>\n",
       "      <th>1</th>\n",
       "      <td>172.19.1.46-10.200.7.7-52422-3128-6</td>\n",
       "      <td>10.200.7.7</td>\n",
       "      <td>3128</td>\n",
       "      <td>172.19.1.46</td>\n",
       "      <td>52422</td>\n",
       "      <td>6</td>\n",
       "      <td>26/04/201711:11:17</td>\n",
       "      <td>1</td>\n",
       "      <td>2</td>\n",
       "      <td>0</td>\n",
       "      <td>...</td>\n",
       "      <td>0.0</td>\n",
       "      <td>0</td>\n",
       "      <td>0</td>\n",
       "      <td>0.0</td>\n",
       "      <td>0.0</td>\n",
       "      <td>0</td>\n",
       "      <td>0</td>\n",
       "      <td>BENIGN</td>\n",
       "      <td>131</td>\n",
       "      <td>HTTP_PROXY</td>\n",
       "    </tr>\n",
       "    <tr>\n",
       "      <th>2</th>\n",
       "      <td>10.200.7.217-50.31.185.39-38848-80-6</td>\n",
       "      <td>50.31.185.39</td>\n",
       "      <td>80</td>\n",
       "      <td>10.200.7.217</td>\n",
       "      <td>38848</td>\n",
       "      <td>6</td>\n",
       "      <td>26/04/201711:11:17</td>\n",
       "      <td>1</td>\n",
       "      <td>3</td>\n",
       "      <td>0</td>\n",
       "      <td>...</td>\n",
       "      <td>0.0</td>\n",
       "      <td>0</td>\n",
       "      <td>0</td>\n",
       "      <td>0.0</td>\n",
       "      <td>0.0</td>\n",
       "      <td>0</td>\n",
       "      <td>0</td>\n",
       "      <td>BENIGN</td>\n",
       "      <td>7</td>\n",
       "      <td>HTTP</td>\n",
       "    </tr>\n",
       "    <tr>\n",
       "      <th>3</th>\n",
       "      <td>10.200.7.217-50.31.185.39-38848-80-6</td>\n",
       "      <td>50.31.185.39</td>\n",
       "      <td>80</td>\n",
       "      <td>10.200.7.217</td>\n",
       "      <td>38848</td>\n",
       "      <td>6</td>\n",
       "      <td>26/04/201711:11:17</td>\n",
       "      <td>217</td>\n",
       "      <td>1</td>\n",
       "      <td>3</td>\n",
       "      <td>...</td>\n",
       "      <td>0.0</td>\n",
       "      <td>0</td>\n",
       "      <td>0</td>\n",
       "      <td>0.0</td>\n",
       "      <td>0.0</td>\n",
       "      <td>0</td>\n",
       "      <td>0</td>\n",
       "      <td>BENIGN</td>\n",
       "      <td>7</td>\n",
       "      <td>HTTP</td>\n",
       "    </tr>\n",
       "    <tr>\n",
       "      <th>4</th>\n",
       "      <td>192.168.72.43-10.200.7.7-55961-3128-6</td>\n",
       "      <td>192.168.72.43</td>\n",
       "      <td>55961</td>\n",
       "      <td>10.200.7.7</td>\n",
       "      <td>3128</td>\n",
       "      <td>6</td>\n",
       "      <td>26/04/201711:11:17</td>\n",
       "      <td>78068</td>\n",
       "      <td>5</td>\n",
       "      <td>0</td>\n",
       "      <td>...</td>\n",
       "      <td>0.0</td>\n",
       "      <td>0</td>\n",
       "      <td>0</td>\n",
       "      <td>0.0</td>\n",
       "      <td>0.0</td>\n",
       "      <td>0</td>\n",
       "      <td>0</td>\n",
       "      <td>BENIGN</td>\n",
       "      <td>131</td>\n",
       "      <td>HTTP_PROXY</td>\n",
       "    </tr>\n",
       "  </tbody>\n",
       "</table>\n",
       "<p>5 rows × 87 columns</p>\n",
       "</div>"
      ],
      "text/plain": [
       "                                 Flow.ID      Source.IP  Source.Port  \\\n",
       "0    172.19.1.46-10.200.7.7-52422-3128-6    172.19.1.46        52422   \n",
       "1    172.19.1.46-10.200.7.7-52422-3128-6     10.200.7.7         3128   \n",
       "2   10.200.7.217-50.31.185.39-38848-80-6   50.31.185.39           80   \n",
       "3   10.200.7.217-50.31.185.39-38848-80-6   50.31.185.39           80   \n",
       "4  192.168.72.43-10.200.7.7-55961-3128-6  192.168.72.43        55961   \n",
       "\n",
       "  Destination.IP  Destination.Port  Protocol           Timestamp  \\\n",
       "0     10.200.7.7              3128         6  26/04/201711:11:17   \n",
       "1    172.19.1.46             52422         6  26/04/201711:11:17   \n",
       "2   10.200.7.217             38848         6  26/04/201711:11:17   \n",
       "3   10.200.7.217             38848         6  26/04/201711:11:17   \n",
       "4     10.200.7.7              3128         6  26/04/201711:11:17   \n",
       "\n",
       "   Flow.Duration  Total.Fwd.Packets  Total.Backward.Packets  ...  Active.Std  \\\n",
       "0          45523                 22                      55  ...         0.0   \n",
       "1              1                  2                       0  ...         0.0   \n",
       "2              1                  3                       0  ...         0.0   \n",
       "3            217                  1                       3  ...         0.0   \n",
       "4          78068                  5                       0  ...         0.0   \n",
       "\n",
       "   Active.Max  Active.Min  Idle.Mean  Idle.Std  Idle.Max  Idle.Min   Label  \\\n",
       "0           0           0        0.0       0.0         0         0  BENIGN   \n",
       "1           0           0        0.0       0.0         0         0  BENIGN   \n",
       "2           0           0        0.0       0.0         0         0  BENIGN   \n",
       "3           0           0        0.0       0.0         0         0  BENIGN   \n",
       "4           0           0        0.0       0.0         0         0  BENIGN   \n",
       "\n",
       "   L7Protocol  ProtocolName  \n",
       "0         131    HTTP_PROXY  \n",
       "1         131    HTTP_PROXY  \n",
       "2           7          HTTP  \n",
       "3           7          HTTP  \n",
       "4         131    HTTP_PROXY  \n",
       "\n",
       "[5 rows x 87 columns]"
      ]
     },
     "execution_count": 12,
     "metadata": {},
     "output_type": "execute_result"
    }
   ],
   "source": [
    "path = 'data/project1_data.csv'\n",
    "pd_data = pd.read_csv(path,nrows=100000)\n",
    "pd_data.head()"
   ]
  },
  {
   "cell_type": "code",
   "execution_count": 13,
   "metadata": {
    "scrolled": true
   },
   "outputs": [
    {
     "data": {
      "text/plain": [
       "Index(['Flow.ID', 'Source.IP', 'Source.Port', 'Destination.IP',\n",
       "       'Destination.Port', 'Protocol', 'Timestamp', 'Flow.Duration',\n",
       "       'Total.Fwd.Packets', 'Total.Backward.Packets',\n",
       "       'Total.Length.of.Fwd.Packets', 'Total.Length.of.Bwd.Packets',\n",
       "       'Fwd.Packet.Length.Max', 'Fwd.Packet.Length.Min',\n",
       "       'Fwd.Packet.Length.Mean', 'Fwd.Packet.Length.Std',\n",
       "       'Bwd.Packet.Length.Max', 'Bwd.Packet.Length.Min',\n",
       "       'Bwd.Packet.Length.Mean', 'Bwd.Packet.Length.Std', 'Flow.Bytes.s',\n",
       "       'Flow.Packets.s', 'Flow.IAT.Mean', 'Flow.IAT.Std', 'Flow.IAT.Max',\n",
       "       'Flow.IAT.Min', 'Fwd.IAT.Total', 'Fwd.IAT.Mean', 'Fwd.IAT.Std',\n",
       "       'Fwd.IAT.Max', 'Fwd.IAT.Min', 'Bwd.IAT.Total', 'Bwd.IAT.Mean',\n",
       "       'Bwd.IAT.Std', 'Bwd.IAT.Max', 'Bwd.IAT.Min', 'Fwd.PSH.Flags',\n",
       "       'Bwd.PSH.Flags', 'Fwd.URG.Flags', 'Bwd.URG.Flags', 'Fwd.Header.Length',\n",
       "       'Bwd.Header.Length', 'Fwd.Packets.s', 'Bwd.Packets.s',\n",
       "       'Min.Packet.Length', 'Max.Packet.Length', 'Packet.Length.Mean',\n",
       "       'Packet.Length.Std', 'Packet.Length.Variance', 'FIN.Flag.Count',\n",
       "       'SYN.Flag.Count', 'RST.Flag.Count', 'PSH.Flag.Count', 'ACK.Flag.Count',\n",
       "       'URG.Flag.Count', 'CWE.Flag.Count', 'ECE.Flag.Count', 'Down.Up.Ratio',\n",
       "       'Average.Packet.Size', 'Avg.Fwd.Segment.Size', 'Avg.Bwd.Segment.Size',\n",
       "       'Fwd.Header.Length.1', 'Fwd.Avg.Bytes.Bulk', 'Fwd.Avg.Packets.Bulk',\n",
       "       'Fwd.Avg.Bulk.Rate', 'Bwd.Avg.Bytes.Bulk', 'Bwd.Avg.Packets.Bulk',\n",
       "       'Bwd.Avg.Bulk.Rate', 'Subflow.Fwd.Packets', 'Subflow.Fwd.Bytes',\n",
       "       'Subflow.Bwd.Packets', 'Subflow.Bwd.Bytes', 'Init_Win_bytes_forward',\n",
       "       'Init_Win_bytes_backward', 'act_data_pkt_fwd', 'min_seg_size_forward',\n",
       "       'Active.Mean', 'Active.Std', 'Active.Max', 'Active.Min', 'Idle.Mean',\n",
       "       'Idle.Std', 'Idle.Max', 'Idle.Min', 'Label', 'L7Protocol',\n",
       "       'ProtocolName'],\n",
       "      dtype='object')"
      ]
     },
     "execution_count": 13,
     "metadata": {},
     "output_type": "execute_result"
    }
   ],
   "source": [
    "pd_data.keys()"
   ]
  },
  {
   "cell_type": "markdown",
   "metadata": {},
   "source": [
    "## 2 数据处理"
   ]
  },
  {
   "cell_type": "code",
   "execution_count": 14,
   "metadata": {},
   "outputs": [],
   "source": [
    "drop_ids = ['Flow.Packets.s','Flow.Bytes.s','Flow.ID','Source.IP', 'Source.Port','Destination.IP','Destination.Port','Timestamp','Label','L7Protocol','ProtocolName']\n",
    "target_fields = 'Flow.Packets.s'"
   ]
  },
  {
   "cell_type": "code",
   "execution_count": 15,
   "metadata": {
    "scrolled": true
   },
   "outputs": [
    {
     "name": "stdout",
     "output_type": "stream",
     "text": [
      "(98000, 76) (98000,)\n",
      "(1000, 76) (1000,)\n",
      "(1000, 76) (1000,)\n"
     ]
    }
   ],
   "source": [
    "Datas = pd_data.drop(drop_ids, axis=1)\n",
    "D_mean = Datas.mean(axis=0)\n",
    "D_std = Datas.std(axis=0)\n",
    "Datas = (Datas - D_mean) / D_std\n",
    "Datas = Datas.fillna(0)\n",
    "Labels = pd_data.loc[:,target_fields]\n",
    "result_mean = Labels.mean()\n",
    "result_std = Labels.std()\n",
    "Labels = (Labels - result_mean) / result_std\n",
    "train_features, train_targets = Datas.iloc[:-2000], Labels.iloc[:-2000]\n",
    "val_features, val_targets = Datas.iloc[-2000:-1000], Labels.iloc[-2000:-1000]\n",
    "test_features, test_targets = Datas.iloc[-1000:], Labels.iloc[-1000:]\n",
    "print(train_features.shape, train_targets.shape)\n",
    "print(val_features.shape, val_targets.shape)\n",
    "print(test_features.shape, test_targets.shape)"
   ]
  },
  {
   "cell_type": "markdown",
   "metadata": {},
   "source": [
    "## 3 编写神经网络"
   ]
  },
  {
   "cell_type": "code",
   "execution_count": 16,
   "metadata": {},
   "outputs": [
    {
     "name": "stdout",
     "output_type": "stream",
     "text": [
      "Model: \"model\"\n",
      "_________________________________________________________________\n",
      "Layer (type)                 Output Shape              Param #   \n",
      "=================================================================\n",
      "input_1 (InputLayer)         [(None, 76)]              0         \n",
      "_________________________________________________________________\n",
      "dense (Dense)                (None, 8)                 616       \n",
      "_________________________________________________________________\n",
      "dense_1 (Dense)              (None, 8)                 72        \n",
      "_________________________________________________________________\n",
      "dense_2 (Dense)              (None, 1)                 9         \n",
      "=================================================================\n",
      "Total params: 697\n",
      "Trainable params: 697\n",
      "Non-trainable params: 0\n",
      "_________________________________________________________________\n"
     ]
    }
   ],
   "source": [
    "def create_model():\n",
    "    INPUT = tf.keras.Input((76,))\n",
    "    X = tf.keras.layers.Dense(8, activation='sigmoid')(INPUT)\n",
    "    X = tf.keras.layers.Dense(8, activation='sigmoid')(X)\n",
    "    Y = tf.keras.layers.Dense(1, activation=None)(X)\n",
    "    model = tf.keras.Model(inputs=INPUT, outputs=Y)\n",
    "    \n",
    "    model.compile(optimizer=tf.keras.optimizers.SGD(learning_rate=0.07),\n",
    "                  loss=tf.keras.losses.MeanAbsoluteError())\n",
    "    \n",
    "    return model\n",
    "\n",
    "model = create_model()\n",
    "model.summary()"
   ]
  },
  {
   "cell_type": "markdown",
   "metadata": {},
   "source": [
    "## 4. 开始训练"
   ]
  },
  {
   "cell_type": "code",
   "execution_count": 17,
   "metadata": {},
   "outputs": [
    {
     "name": "stderr",
     "output_type": "stream",
     "text": [
      "WARNING: Logging before flag parsing goes to stderr.\n",
      "W0529 10:59:50.866728 11084 training.py:504] Falling back from v2 loop because of error: Failed to find data adapter that can handle input: <class 'pandas.core.frame.DataFrame'>, <class 'NoneType'>\n"
     ]
    },
    {
     "name": "stdout",
     "output_type": "stream",
     "text": [
      "Train on 98000 samples, validate on 1000 samples\n",
      "Epoch 1/100\n",
      "98000/98000 [==============================] - 2s 17us/sample - loss: 0.3409 - val_loss: 0.1199\n",
      "Epoch 2/100\n",
      "98000/98000 [==============================] - 1s 15us/sample - loss: 0.3265 - val_loss: 0.1958\n",
      "Epoch 3/100\n",
      "98000/98000 [==============================] - 2s 16us/sample - loss: 0.3145 - val_loss: 0.1201\n",
      "Epoch 4/100\n",
      "98000/98000 [==============================] - 2s 16us/sample - loss: 0.3040 - val_loss: 0.1124\n",
      "Epoch 5/100\n",
      "98000/98000 [==============================] - 1s 15us/sample - loss: 0.2906 - val_loss: 0.1893\n",
      "Epoch 6/100\n",
      "98000/98000 [==============================] - 1s 13us/sample - loss: 0.2680 - val_loss: 0.1056\n",
      "Epoch 7/100\n",
      "98000/98000 [==============================] - 1s 12us/sample - loss: 0.2264 - val_loss: 0.1927\n",
      "Epoch 8/100\n",
      "98000/98000 [==============================] - 1s 15us/sample - loss: 0.1638 - val_loss: 0.1149\n",
      "Epoch 9/100\n",
      "98000/98000 [==============================] - 2s 17us/sample - loss: 0.1119 - val_loss: 0.0951\n",
      "Epoch 10/100\n",
      "98000/98000 [==============================] - 2s 16us/sample - loss: 0.0940 - val_loss: 0.0688\n",
      "Epoch 11/100\n",
      "98000/98000 [==============================] - 2s 17us/sample - loss: 0.0839 - val_loss: 0.1131\n",
      "Epoch 12/100\n",
      "98000/98000 [==============================] - 2s 16us/sample - loss: 0.0770 - val_loss: 0.0598\n",
      "Epoch 13/100\n",
      "98000/98000 [==============================] - 1s 13us/sample - loss: 0.0727 - val_loss: 0.1034\n",
      "Epoch 14/100\n",
      "98000/98000 [==============================] - 1s 12us/sample - loss: 0.0694 - val_loss: 0.0450\n",
      "Epoch 15/100\n",
      "98000/98000 [==============================] - 1s 12us/sample - loss: 0.0670 - val_loss: 0.0930\n",
      "Epoch 16/100\n",
      "98000/98000 [==============================] - 1s 14us/sample - loss: 0.0651 - val_loss: 0.0361\n",
      "Epoch 17/100\n",
      "98000/98000 [==============================] - 1s 13us/sample - loss: 0.0631 - val_loss: 0.0828\n",
      "Epoch 18/100\n",
      "98000/98000 [==============================] - 1s 14us/sample - loss: 0.0623 - val_loss: 0.0392\n",
      "Epoch 19/100\n",
      "98000/98000 [==============================] - 2s 17us/sample - loss: 0.0609 - val_loss: 0.0864\n",
      "Epoch 20/100\n",
      "98000/98000 [==============================] - 2s 17us/sample - loss: 0.0597 - val_loss: 0.0433\n",
      "Epoch 21/100\n",
      "98000/98000 [==============================] - 2s 19us/sample - loss: 0.0589 - val_loss: 0.0713\n",
      "Epoch 22/100\n",
      "98000/98000 [==============================] - 1s 12us/sample - loss: 0.0582 - val_loss: 0.0361\n",
      "Epoch 23/100\n",
      "98000/98000 [==============================] - 1s 14us/sample - loss: 0.0573 - val_loss: 0.0641\n",
      "Epoch 24/100\n",
      "98000/98000 [==============================] - 2s 16us/sample - loss: 0.0565 - val_loss: 0.0352\n",
      "Epoch 25/100\n",
      "98000/98000 [==============================] - 1s 13us/sample - loss: 0.0559 - val_loss: 0.0355\n",
      "Epoch 26/100\n",
      "98000/98000 [==============================] - 1s 15us/sample - loss: 0.0557 - val_loss: 0.0737\n",
      "Epoch 27/100\n",
      "98000/98000 [==============================] - 2s 18us/sample - loss: 0.0549 - val_loss: 0.0461\n",
      "Epoch 28/100\n",
      "98000/98000 [==============================] - 1s 14us/sample - loss: 0.0544 - val_loss: 0.0695\n",
      "Epoch 29/100\n",
      "98000/98000 [==============================] - 1s 14us/sample - loss: 0.0542 - val_loss: 0.0365\n",
      "Epoch 30/100\n",
      "98000/98000 [==============================] - 2s 17us/sample - loss: 0.0535 - val_loss: 0.0638\n",
      "Epoch 31/100\n",
      "98000/98000 [==============================] - 1s 13us/sample - loss: 0.0531 - val_loss: 0.0394\n",
      "Epoch 32/100\n",
      "98000/98000 [==============================] - 1s 14us/sample - loss: 0.0523 - val_loss: 0.0627\n",
      "Epoch 33/100\n",
      "98000/98000 [==============================] - 1s 14us/sample - loss: 0.0522 - val_loss: 0.0437\n",
      "Epoch 34/100\n",
      "98000/98000 [==============================] - 1s 15us/sample - loss: 0.0518 - val_loss: 0.0735\n",
      "Epoch 35/100\n",
      "98000/98000 [==============================] - 1s 15us/sample - loss: 0.0509 - val_loss: 0.0356\n",
      "Epoch 36/100\n",
      "98000/98000 [==============================] - 1s 13us/sample - loss: 0.0508 - val_loss: 0.0550\n",
      "Epoch 37/100\n",
      "98000/98000 [==============================] - 1s 13us/sample - loss: 0.0500 - val_loss: 0.0329\n",
      "Epoch 38/100\n",
      "98000/98000 [==============================] - 2s 18us/sample - loss: 0.0492 - val_loss: 0.0665\n",
      "Epoch 39/100\n",
      "98000/98000 [==============================] - 1s 14us/sample - loss: 0.0487 - val_loss: 0.0373\n",
      "Epoch 40/100\n",
      "98000/98000 [==============================] - 1s 14us/sample - loss: 0.0482 - val_loss: 0.0602\n",
      "Epoch 41/100\n",
      "98000/98000 [==============================] - 2s 15us/sample - loss: 0.0468 - val_loss: 0.0388\n",
      "Epoch 42/100\n",
      "98000/98000 [==============================] - 1s 13us/sample - loss: 0.0463 - val_loss: 0.0614\n",
      "Epoch 43/100\n",
      "98000/98000 [==============================] - 1s 15us/sample - loss: 0.0459 - val_loss: 0.0359\n",
      "Epoch 44/100\n",
      "98000/98000 [==============================] - 1s 15us/sample - loss: 0.0458 - val_loss: 0.0561\n",
      "Epoch 45/100\n",
      "98000/98000 [==============================] - 1s 15us/sample - loss: 0.0459 - val_loss: 0.0366\n",
      "Epoch 46/100\n",
      "98000/98000 [==============================] - 1s 14us/sample - loss: 0.0455 - val_loss: 0.0621\n",
      "Epoch 47/100\n",
      "98000/98000 [==============================] - 1s 14us/sample - loss: 0.0446 - val_loss: 0.0311\n",
      "Epoch 48/100\n",
      "98000/98000 [==============================] - 1s 15us/sample - loss: 0.0448 - val_loss: 0.0598\n",
      "Epoch 49/100\n",
      "98000/98000 [==============================] - 1s 15us/sample - loss: 0.0444 - val_loss: 0.0281\n",
      "Epoch 50/100\n",
      "98000/98000 [==============================] - 1s 14us/sample - loss: 0.0442 - val_loss: 0.0604\n",
      "Epoch 51/100\n",
      "98000/98000 [==============================] - 2s 16us/sample - loss: 0.0444 - val_loss: 0.0283\n",
      "Epoch 52/100\n",
      "98000/98000 [==============================] - 1s 14us/sample - loss: 0.0438 - val_loss: 0.0606\n",
      "Epoch 53/100\n",
      "98000/98000 [==============================] - 1s 14us/sample - loss: 0.0439 - val_loss: 0.0319\n",
      "Epoch 54/100\n",
      "98000/98000 [==============================] - 1s 14us/sample - loss: 0.0438 - val_loss: 0.0563\n",
      "Epoch 55/100\n",
      "98000/98000 [==============================] - 1s 14us/sample - loss: 0.0434 - val_loss: 0.0365\n",
      "Epoch 56/100\n",
      "98000/98000 [==============================] - 1s 14us/sample - loss: 0.0436 - val_loss: 0.0555\n",
      "Epoch 57/100\n",
      "98000/98000 [==============================] - 1s 13us/sample - loss: 0.0434 - val_loss: 0.0232\n",
      "Epoch 58/100\n",
      "98000/98000 [==============================] - 1s 15us/sample - loss: 0.0432 - val_loss: 0.0556\n",
      "Epoch 59/100\n",
      "98000/98000 [==============================] - 1s 14us/sample - loss: 0.0429 - val_loss: 0.0310\n",
      "Epoch 60/100\n",
      "98000/98000 [==============================] - 1s 15us/sample - loss: 0.0430 - val_loss: 0.0538\n",
      "Epoch 61/100\n",
      "98000/98000 [==============================] - 1s 14us/sample - loss: 0.0431 - val_loss: 0.0301\n",
      "Epoch 62/100\n",
      "98000/98000 [==============================] - 2s 16us/sample - loss: 0.0427 - val_loss: 0.0577\n",
      "Epoch 63/100\n",
      "98000/98000 [==============================] - 1s 13us/sample - loss: 0.0428 - val_loss: 0.0329\n",
      "Epoch 64/100\n",
      "98000/98000 [==============================] - 1s 14us/sample - loss: 0.0426 - val_loss: 0.0497\n",
      "Epoch 65/100\n",
      "98000/98000 [==============================] - 1s 14us/sample - loss: 0.0425 - val_loss: 0.0319\n",
      "Epoch 66/100\n",
      "98000/98000 [==============================] - 1s 13us/sample - loss: 0.0425 - val_loss: 0.0549\n",
      "Epoch 67/100\n",
      "98000/98000 [==============================] - 1s 14us/sample - loss: 0.0424 - val_loss: 0.0297\n",
      "Epoch 68/100\n",
      "98000/98000 [==============================] - 1s 14us/sample - loss: 0.0423 - val_loss: 0.0571\n",
      "Epoch 69/100\n",
      "98000/98000 [==============================] - 1s 14us/sample - loss: 0.0420 - val_loss: 0.0304\n",
      "Epoch 70/100\n",
      "98000/98000 [==============================] - 1s 15us/sample - loss: 0.0418 - val_loss: 0.0482\n",
      "Epoch 71/100\n",
      "98000/98000 [==============================] - 1s 15us/sample - loss: 0.0418 - val_loss: 0.0303\n",
      "Epoch 72/100\n",
      "98000/98000 [==============================] - 1s 13us/sample - loss: 0.0418 - val_loss: 0.0564\n",
      "Epoch 73/100\n",
      "98000/98000 [==============================] - 1s 13us/sample - loss: 0.0419 - val_loss: 0.0322\n",
      "Epoch 74/100\n",
      "98000/98000 [==============================] - 1s 14us/sample - loss: 0.0416 - val_loss: 0.0569\n",
      "Epoch 75/100\n",
      "98000/98000 [==============================] - 1s 13us/sample - loss: 0.0417 - val_loss: 0.0282\n"
     ]
    },
    {
     "name": "stdout",
     "output_type": "stream",
     "text": [
      "Epoch 76/100\n",
      "98000/98000 [==============================] - 1s 14us/sample - loss: 0.0416 - val_loss: 0.0220\n",
      "Epoch 77/100\n",
      "98000/98000 [==============================] - 1s 14us/sample - loss: 0.0412 - val_loss: 0.0552\n",
      "Epoch 78/100\n",
      "98000/98000 [==============================] - 1s 13us/sample - loss: 0.0417 - val_loss: 0.0281\n",
      "Epoch 79/100\n",
      "98000/98000 [==============================] - 1s 15us/sample - loss: 0.0413 - val_loss: 0.0525\n",
      "Epoch 80/100\n",
      "98000/98000 [==============================] - 1s 14us/sample - loss: 0.0414 - val_loss: 0.0291\n",
      "Epoch 81/100\n",
      "98000/98000 [==============================] - 1s 13us/sample - loss: 0.0408 - val_loss: 0.0539\n",
      "Epoch 82/100\n",
      "98000/98000 [==============================] - 1s 15us/sample - loss: 0.0415 - val_loss: 0.0282\n",
      "Epoch 83/100\n",
      "98000/98000 [==============================] - 1s 15us/sample - loss: 0.0412 - val_loss: 0.0536\n",
      "Epoch 84/100\n",
      "98000/98000 [==============================] - 1s 13us/sample - loss: 0.0413 - val_loss: 0.0258\n",
      "Epoch 85/100\n",
      "98000/98000 [==============================] - 1s 14us/sample - loss: 0.0409 - val_loss: 0.0547\n",
      "Epoch 86/100\n",
      "98000/98000 [==============================] - 1s 14us/sample - loss: 0.0411 - val_loss: 0.0289\n",
      "Epoch 87/100\n",
      "98000/98000 [==============================] - 1s 14us/sample - loss: 0.0414 - val_loss: 0.0522\n",
      "Epoch 88/100\n",
      "98000/98000 [==============================] - 1s 14us/sample - loss: 0.0410 - val_loss: 0.0327\n",
      "Epoch 89/100\n",
      "98000/98000 [==============================] - 1s 14us/sample - loss: 0.0410 - val_loss: 0.0573\n",
      "Epoch 90/100\n",
      "98000/98000 [==============================] - 1s 13us/sample - loss: 0.0410 - val_loss: 0.0302\n",
      "Epoch 91/100\n",
      "98000/98000 [==============================] - 1s 14us/sample - loss: 0.0409 - val_loss: 0.0523\n",
      "Epoch 92/100\n",
      "98000/98000 [==============================] - 1s 13us/sample - loss: 0.0406 - val_loss: 0.0282\n",
      "Epoch 93/100\n",
      "98000/98000 [==============================] - 1s 15us/sample - loss: 0.0406 - val_loss: 0.0537\n",
      "Epoch 94/100\n",
      "98000/98000 [==============================] - 1s 14us/sample - loss: 0.0407 - val_loss: 0.0206\n",
      "Epoch 95/100\n",
      "98000/98000 [==============================] - 1s 14us/sample - loss: 0.0408 - val_loss: 0.0569\n",
      "Epoch 96/100\n",
      "98000/98000 [==============================] - 1s 15us/sample - loss: 0.0405 - val_loss: 0.0333\n",
      "Epoch 97/100\n",
      "98000/98000 [==============================] - 1s 13us/sample - loss: 0.0406 - val_loss: 0.0533\n",
      "Epoch 98/100\n",
      "98000/98000 [==============================] - 1s 14us/sample - loss: 0.0409 - val_loss: 0.0273\n",
      "Epoch 99/100\n",
      "98000/98000 [==============================] - 2s 17us/sample - loss: 0.0407 - val_loss: 0.0527\n",
      "Epoch 100/100\n",
      "98000/98000 [==============================] - 1s 15us/sample - loss: 0.0407 - val_loss: 0.0293\n"
     ]
    }
   ],
   "source": [
    "batch_size = 256\n",
    "epochs = 100\n",
    "\n",
    "log = model.fit(train_features,\n",
    "                train_targets,\n",
    "                batch_size=batch_size,\n",
    "                epochs=epochs,\n",
    "                validation_data=[val_features, val_targets])"
   ]
  },
  {
   "cell_type": "markdown",
   "metadata": {},
   "source": [
    "## 5. 可视化训练过程与结果"
   ]
  },
  {
   "cell_type": "code",
   "execution_count": 18,
   "metadata": {
    "scrolled": true
   },
   "outputs": [
    {
     "data": {
      "text/plain": [
       "<matplotlib.legend.Legend at 0x83c9e48>"
      ]
     },
     "execution_count": 18,
     "metadata": {},
     "output_type": "execute_result"
    },
    {
     "data": {
      "image/png": "[encoded data removed]",
      "text/plain": [
       "<Figure size 432x288 with 1 Axes>"
      ]
     },
     "metadata": {
      "needs_background": "light"
     },
     "output_type": "display_data"
    }
   ],
   "source": [
    "plt.plot(log.history['loss'],label='Training Loss')\n",
    "plt.plot(log.history['val_loss'], label='Validation Loss')\n",
    "plt.legend()"
   ]
  },
  {
   "cell_type": "code",
   "execution_count": 19,
   "metadata": {},
   "outputs": [
    {
     "name": "stderr",
     "output_type": "stream",
     "text": [
      "W0529 11:10:52.579810 11084 training.py:504] Falling back from v2 loop because of error: Failed to find data adapter that can handle input: <class 'pandas.core.frame.DataFrame'>, <class 'NoneType'>\n"
     ]
    },
    {
     "name": "stdout",
     "output_type": "stream",
     "text": [
      "90\n"
     ]
    },
    {
     "data": {
      "image/png": "[encoded data removed]",
      "text/plain": [
       "<Figure size 432x288 with 2 Axes>"
      ]
     },
     "metadata": {
      "needs_background": "light"
     },
     "output_type": "display_data"
    }
   ],
   "source": [
    "rand_num = np.random.choice(900)\n",
    "#rand_num=765\n",
    "print(rand_num)\n",
    "results = model.predict(test_features[rand_num:rand_num+100]).squeeze()\n",
    "results = results * result_std + result_mean\n",
    "results = np.where(results<0, 0, results)\n",
    "labels = test_targets[rand_num:rand_num+100].to_numpy() * result_std + result_mean\n",
    "\n",
    "plt_x = np.linspace(0,100,100)\n",
    "plt.subplot(121)\n",
    "plt.plot(plt_x, labels, 'g')\n",
    "plt.subplot(122)\n",
    "plt.plot(plt_x, results, 'r')\n",
    "plt.show()"
   ]
  },
  {
   "cell_type": "code",
   "execution_count": 20,
   "metadata": {},
   "outputs": [
    {
     "data": {
      "text/plain": [
       "<matplotlib.legend.Legend at 0xac99320>"
      ]
     },
     "execution_count": 20,
     "metadata": {},
     "output_type": "execute_result"
    },
    {
     "data": {
      "image/png": "[encoded data removed]",
      "text/plain": [
       "<Figure size 432x288 with 1 Axes>"
      ]
     },
     "metadata": {
      "needs_background": "light"
     },
     "output_type": "display_data"
    }
   ],
   "source": [
    "plt.plot(labels,label='label')\n",
    "plt.plot(results, label='AI')\n",
    "plt.legend()"
   ]
  },
  {
   "cell_type": "code",
   "execution_count": null,
   "metadata": {},
   "outputs": [],
   "source": []
  }
 ],
 "metadata": {
  "kernelspec": {
   "display_name": "Python 3",
   "language": "python",
   "name": "python3"
  },
  "language_info": {
   "codemirror_mode": {
    "name": "ipython",
    "version": 3
   },
   "file_extension": ".py",
   "mimetype": "text/x-python",
   "name": "python",
   "nbconvert_exporter": "python",
   "pygments_lexer": "ipython3",
   "version": "3.7.0"
  }
 },
 "nbformat": 4,
 "nbformat_minor": 2
}
