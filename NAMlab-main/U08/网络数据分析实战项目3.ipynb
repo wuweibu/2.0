{
 "cells": [
  {
   "cell_type": "markdown",
   "metadata": {},
   "source": [
    "# 基于日志的用户习惯分析\n",
    "\n",
    "* 数据下载 [点击这里](http://www.schonlau.net/)\n",
    "* 取3位用户的数据\n",
    "* 假定3位用户分别是不同的角色（开发者、运维者、测试者）\n",
    "* 数据：3位用户的命令日志\n",
    "* 类别：3"
   ]
  },
  {
   "cell_type": "code",
   "execution_count": 1,
   "metadata": {},
   "outputs": [],
   "source": [
    "import numpy as np\n",
    "import os\n",
    "from sklearn.naive_bayes import GaussianNB"
   ]
  },
  {
   "cell_type": "markdown",
   "metadata": {},
   "source": [
    "## 读取数据"
   ]
  },
  {
   "cell_type": "code",
   "execution_count": 49,
   "metadata": {},
   "outputs": [],
   "source": [
    "folder = 'data/logs/'\n",
    "users = 3\n",
    "filenames = [folder+filename for filename in os.listdir(folder)]\n",
    "datas = []\n",
    "long_datas = []\n",
    "for filename in filenames[0:users]:\n",
    "    with open(filename) as f:\n",
    "        file = f.read().split('\\n')\n",
    "        datas.append(file)\n",
    "        long_datas.extend(file)"
   ]
  },
  {
   "cell_type": "markdown",
   "metadata": {},
   "source": [
    "## 建立查字典机制"
   ]
  },
  {
   "cell_type": "code",
   "execution_count": 50,
   "metadata": {},
   "outputs": [],
   "source": [
    "C_N = {}\n",
    "N_C = {}\n",
    "for N,C in enumerate(list(set(long_datas))):\n",
    "    if C is not '':\n",
    "        C_N[C] = N\n",
    "        N_C[N] = C"
   ]
  },
  {
   "cell_type": "markdown",
   "metadata": {},
   "source": [
    "## 数据处理"
   ]
  },
  {
   "cell_type": "code",
   "execution_count": 51,
   "metadata": {},
   "outputs": [
    {
     "data": {
      "text/plain": [
       "(3, 238)"
      ]
     },
     "execution_count": 51,
     "metadata": {},
     "output_type": "execute_result"
    }
   ],
   "source": [
    "num_datas = []\n",
    "for data in datas:\n",
    "    n_data = np.zeros(len(list(N_C.keys()))+1)\n",
    "    for C in set(data):\n",
    "        if C is not '':\n",
    "            N = C_N[C]\n",
    "            n_data[N] = 1\n",
    "    num_datas.append(n_data)\n",
    "num_datas = np.array(num_datas)\n",
    "num_datas = num_datas.astype(np.float32)\n",
    "num_datas.shape"
   ]
  },
  {
   "cell_type": "markdown",
   "metadata": {},
   "source": [
    "### 数据扩充"
   ]
  },
  {
   "cell_type": "code",
   "execution_count": 52,
   "metadata": {},
   "outputs": [
    {
     "data": {
      "text/plain": [
       "(3, 250)"
      ]
     },
     "execution_count": 52,
     "metadata": {},
     "output_type": "execute_result"
    }
   ],
   "source": [
    "num_datas = np.hstack((num_datas, np.zeros((3,12))))\n",
    "num_datas.shape"
   ]
  },
  {
   "cell_type": "markdown",
   "metadata": {},
   "source": [
    "### 制作标签"
   ]
  },
  {
   "cell_type": "code",
   "execution_count": 53,
   "metadata": {},
   "outputs": [
    {
     "data": {
      "text/plain": [
       "(15, 51)"
      ]
     },
     "execution_count": 53,
     "metadata": {},
     "output_type": "execute_result"
    }
   ],
   "source": [
    "Datas = []\n",
    "for user_num in range(users):\n",
    "    user_data = num_datas[user_num]\n",
    "    user_data = user_data.reshape(5,50)\n",
    "    label = np.ones((5,1)) * user_num\n",
    "    user_data = np.hstack((user_data,label))\n",
    "    Datas.extend(user_data)\n",
    "Datas = np.array(Datas)\n",
    "np.random.shuffle(Datas)\n",
    "Datas.shape"
   ]
  },
  {
   "cell_type": "markdown",
   "metadata": {},
   "source": [
    "### 数据划分"
   ]
  },
  {
   "cell_type": "code",
   "execution_count": 58,
   "metadata": {},
   "outputs": [],
   "source": [
    "ratio = 0.1\n",
    "split_num = int(Datas.shape[0] * ratio)\n",
    "train_x, train_y = Datas[:split_num,0:-1], Datas[:split_num,-1]\n",
    "test_x, test_y = Datas[split_num:,0:-1], Datas[split_num:,-1]"
   ]
  },
  {
   "cell_type": "markdown",
   "metadata": {},
   "source": [
    "## 训练模型"
   ]
  },
  {
   "cell_type": "code",
   "execution_count": 59,
   "metadata": {},
   "outputs": [
    {
     "name": "stdout",
     "output_type": "stream",
     "text": [
      "1.0\n",
      "0.2857142857142857\n"
     ]
    },
    {
     "name": "stderr",
     "output_type": "stream",
     "text": [
      "D:\\dev_tools\\anaconda\\lib\\site-packages\\sklearn\\naive_bayes.py:450: RuntimeWarning: divide by zero encountered in log\n",
      "  n_ij = - 0.5 * np.sum(np.log(2. * np.pi * self.sigma_[i, :]))\n",
      "D:\\dev_tools\\anaconda\\lib\\site-packages\\sklearn\\naive_bayes.py:452: RuntimeWarning: invalid value encountered in true_divide\n",
      "  (self.sigma_[i, :]), 1)\n",
      "D:\\dev_tools\\anaconda\\lib\\site-packages\\sklearn\\naive_bayes.py:450: RuntimeWarning: divide by zero encountered in log\n",
      "  n_ij = - 0.5 * np.sum(np.log(2. * np.pi * self.sigma_[i, :]))\n",
      "D:\\dev_tools\\anaconda\\lib\\site-packages\\sklearn\\naive_bayes.py:452: RuntimeWarning: divide by zero encountered in true_divide\n",
      "  (self.sigma_[i, :]), 1)\n",
      "D:\\dev_tools\\anaconda\\lib\\site-packages\\sklearn\\naive_bayes.py:452: RuntimeWarning: invalid value encountered in true_divide\n",
      "  (self.sigma_[i, :]), 1)\n"
     ]
    }
   ],
   "source": [
    "model = GaussianNB()\n",
    "model.fit(train_x, train_y)\n",
    "print(model.score(train_x, train_y))\n",
    "print(model.score(test_x, test_y))"
   ]
  }
 ],
 "metadata": {
  "kernelspec": {
   "display_name": "Python 3",
   "language": "python",
   "name": "python3"
  },
  "language_info": {
   "codemirror_mode": {
    "name": "ipython",
    "version": 3
   },
   "file_extension": ".py",
   "mimetype": "text/x-python",
   "name": "python",
   "nbconvert_exporter": "python",
   "pygments_lexer": "ipython3",
   "version": "3.7.4"
  }
 },
 "nbformat": 4,
 "nbformat_minor": 2
}
