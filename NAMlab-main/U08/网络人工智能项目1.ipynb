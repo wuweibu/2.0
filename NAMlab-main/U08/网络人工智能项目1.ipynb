{
 "cells": [
  {
   "cell_type": "markdown",
   "metadata": {},
   "source": [
    "# 识别VPN流量 🕵️‍♂️\n",
    "* 使用 Tensorflow 搭建神经网络完成VPN流量的识别\n",
    "* FIAT: 向前发送两个数据包之间的时间（平均值，最大值，最小值，标准差）\n",
    "* BIAT: 向后发送两个数据包之间的时间（平均值，最大值，最小值，标准差）\n",
    "* FLOWIAT: 形成数据流的两个数据包之间的时间（平均值，最大值，最小值，标准差）\n",
    "* ACTIVE: 时间量，在变成空闲之前的活跃时间\n",
    "* IDLE: 时间量，在变成活跃之前的空闲时间"
   ]
  },
  {
   "cell_type": "code",
   "execution_count": null,
   "metadata": {},
   "outputs": [],
   "source": [
    "import os\n",
    "import numpy as np\n",
    "import pandas as pd\n",
    "import tensorflow as tf\n",
    "from matplotlib import pyplot as plt"
   ]
  },
  {
   "cell_type": "markdown",
   "metadata": {},
   "source": [
    "## 1. 加载数据"
   ]
  },
  {
   "cell_type": "code",
   "execution_count": null,
   "metadata": {},
   "outputs": [],
   "source": [
    "pd_data = pd.read_csv('../data/15s.csv')\n",
    "pd_data.head()"
   ]
  },
  {
   "cell_type": "code",
   "execution_count": null,
   "metadata": {},
   "outputs": [],
   "source": [
    "pd_data.keys()"
   ]
  },
  {
   "cell_type": "code",
   "execution_count": null,
   "metadata": {},
   "outputs": [],
   "source": [
    "pd_data.shape"
   ]
  },
  {
   "cell_type": "markdown",
   "metadata": {},
   "source": [
    "### 1.1 观察数据分布"
   ]
  },
  {
   "cell_type": "code",
   "execution_count": null,
   "metadata": {},
   "outputs": [],
   "source": [
    "plt.figure(figsize=(20,20))\n",
    "for i in range(len(pd_data.keys())-1):\n",
    "    key = pd_data.keys()[i]\n",
    "    plt.subplot(6,4,i+1)\n",
    "    plt.xlabel(key)\n",
    "    plt.hist(pd_data[key],bins=20)\n",
    "plt.show()"
   ]
  },
  {
   "cell_type": "markdown",
   "metadata": {},
   "source": [
    "### 1.2 处理数据\n",
    "* 数据打乱\n",
    "* 制作标签\n",
    "* 数据归一\n",
    "* 数据集划分"
   ]
  },
  {
   "cell_type": "code",
   "execution_count": null,
   "metadata": {},
   "outputs": [],
   "source": [
    "def create_labels(labels):\n",
    "    return np.where(labels=='VPN',1,0)\n",
    "\n",
    "def create_datas(pd_data):\n",
    "    shuffled_datas = pd_data.sample(frac=1.0)\n",
    "    labels = create_labels(np.array(shuffled_datas.label))\n",
    "    norm_datas = shuffled_datas.drop('label', axis=1)\n",
    "    norm_datas_min = norm_datas.min(0)\n",
    "    norm_datas_max = norm_datas.max(0)\n",
    "    norm_datas = (norm_datas - norm_datas_min) / (norm_datas_max - norm_datas_min)\n",
    "    numpy_datas = np.array(norm_datas)\n",
    "    test_x, test_y = numpy_datas[0:2000], labels[0:2000]\n",
    "    train_x, train_y = numpy_datas[2000:], labels[2000:]\n",
    "    print(\"测试数据与标签：{} | {}\".format(test_x.shape, test_y.shape))\n",
    "    print(\"训练数据与标签：{} | {}\".format(train_x.shape, train_y.shape))\n",
    "    return train_x, train_y, test_x, test_y\n",
    "\n",
    "train_x, train_y, test_x, test_y = create_datas(pd_data)"
   ]
  },
  {
   "cell_type": "markdown",
   "metadata": {},
   "source": [
    "## 2. 使用 Tensorflow 建立模型"
   ]
  },
  {
   "cell_type": "code",
   "execution_count": null,
   "metadata": {},
   "outputs": [],
   "source": [
    "learning_rate = 0.0007\n",
    "epochs = 2\n",
    "batch_size = 64\n",
    "\n",
    "model = tf.keras.Sequential([\n",
    "    tf.keras.layers.Dense(32, activation='relu'),\n",
    "    tf.keras.layers.Dense(32, activation='relu'),\n",
    "    tf.keras.layers.Dense(16, activation='relu'),\n",
    "    tf.keras.layers.Dense(1, activation='sigmoid')\n",
    "])\n",
    "\n",
    "model.compile(optimizer=tf.keras.optimizers.Adam(learning_rate=learning_rate),\n",
    "              loss=tf.keras.losses.BinaryCrossentropy(),\n",
    "              metrics=['accuracy'])"
   ]
  },
  {
   "cell_type": "markdown",
   "metadata": {},
   "source": [
    "### 2.1 开始训练"
   ]
  },
  {
   "cell_type": "code",
   "execution_count": null,
   "metadata": {
    "scrolled": true
   },
   "outputs": [],
   "source": [
    "log = model.fit(train_x, train_y, batch_size=batch_size, epochs=epochs, validation_split=0.2)"
   ]
  },
  {
   "cell_type": "markdown",
   "metadata": {},
   "source": [
    "### 2.2 训练过程可视化"
   ]
  },
  {
   "cell_type": "code",
   "execution_count": null,
   "metadata": {},
   "outputs": [],
   "source": [
    "log.history"
   ]
  },
  {
   "cell_type": "code",
   "execution_count": null,
   "metadata": {},
   "outputs": [],
   "source": [
    "plt_x = log.epoch[::10]\n",
    "plt_y1 = log.history['loss'][::10]\n",
    "plt_y2 = log.history['val_loss'][::10]\n",
    "plt.plot(plt_x, plt_y1, 'b-')\n",
    "plt.plot(plt_x, plt_y2, 'r-')\n",
    "plt.show()"
   ]
  },
  {
   "cell_type": "code",
   "execution_count": null,
   "metadata": {
    "scrolled": true
   },
   "outputs": [],
   "source": [
    "plt_y3 = log.history['acc'][::10]\n",
    "plt_y4 = log.history['val_acc'][::10]\n",
    "plt.plot(plt_x, plt_y3, 'b-')\n",
    "plt.plot(plt_x, plt_y4, 'r-')"
   ]
  },
  {
   "cell_type": "markdown",
   "metadata": {},
   "source": [
    "### 2.3 测试数据集验证结果"
   ]
  },
  {
   "cell_type": "code",
   "execution_count": null,
   "metadata": {
    "scrolled": true
   },
   "outputs": [],
   "source": [
    "model.evaluate(test_x, test_y, verbose=2)"
   ]
  }
 ],
 "metadata": {
  "kernelspec": {
   "display_name": "Python 3",
   "language": "python",
   "name": "python3"
  },
  "language_info": {
   "codemirror_mode": {
    "name": "ipython",
    "version": 3
   },
   "file_extension": ".py",
   "mimetype": "text/x-python",
   "name": "python",
   "nbconvert_exporter": "python",
   "pygments_lexer": "ipython3",
   "version": "3.7.0"
  }
 },
 "nbformat": 4,
 "nbformat_minor": 2
}
