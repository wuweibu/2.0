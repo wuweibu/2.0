{
 "cells": [
  {
   "cell_type": "code",
   "execution_count": 1,
   "metadata": {},
   "outputs": [],
   "source": [
    "import numpy as np\n",
    "from tensorflow.keras.layers import Dense, Activation, Dropout\n",
    "from tensorflow.keras.layers import LSTM\n",
    "from tensorflow.keras.models import Sequential\n",
    "#import tensorflow as tf\n",
    "import pandas as pd\n",
    "import matplotlib.pyplot as plt"
   ]
  },
  {
   "cell_type": "code",
   "execution_count": 3,
   "metadata": {},
   "outputs": [],
   "source": [
    "ori_data = pd.read_csv(\"data/Time_Series_Data_withoutlabel.csv\").value.values"
   ]
  },
  {
   "cell_type": "code",
   "execution_count": 4,
   "metadata": {},
   "outputs": [],
   "source": [
    "SEQ_LEN = 15\n",
    "MEAN = ori_data.mean()\n",
    "STD = ori_data.std()"
   ]
  },
  {
   "cell_type": "code",
   "execution_count": 5,
   "metadata": {},
   "outputs": [],
   "source": [
    "data = (ori_data - MEAN) / STD"
   ]
  },
  {
   "cell_type": "code",
   "execution_count": 6,
   "metadata": {},
   "outputs": [],
   "source": [
    "def load_data(data, seq_len, is_shuffle):\n",
    "    sequence_length = seq_len + 1\n",
    "    result = []\n",
    "    for index in range(len(data) - sequence_length):\n",
    "        result.append(data[index: index + sequence_length])\n",
    "\n",
    "    result = np.array(result)\n",
    "    if is_shuffle:\n",
    "        np.random.shuffle(result)\n",
    "    x_train = result[:, :-1]\n",
    "    y_train = result[:, -1]\n",
    "\n",
    "    x_train = np.reshape(x_train, (x_train.shape[0], x_train.shape[1], 1))\n",
    "\n",
    "    return x_train, y_train"
   ]
  },
  {
   "cell_type": "code",
   "execution_count": 7,
   "metadata": {},
   "outputs": [],
   "source": [
    "x_train, y_train = load_data(data, SEQ_LEN, True)"
   ]
  },
  {
   "cell_type": "code",
   "execution_count": 8,
   "metadata": {},
   "outputs": [
    {
     "name": "stdout",
     "output_type": "stream",
     "text": [
      "(2484, 15, 1)\n",
      "(2484,)\n"
     ]
    }
   ],
   "source": [
    "print(x_train.shape)\n",
    "print(y_train.shape)"
   ]
  },
  {
   "cell_type": "code",
   "execution_count": 9,
   "metadata": {},
   "outputs": [],
   "source": [
    "def build_model():\n",
    "    model = Sequential()\n",
    "\n",
    "    model.add(LSTM(50,return_sequences=True))\n",
    "    model.add(Dropout(0.2))\n",
    "\n",
    "    model.add(LSTM(100,return_sequences=False))\n",
    "    model.add(Dropout(0.2))\n",
    "\n",
    "    model.add(Dense(1))\n",
    "    model.add(Activation(\"linear\"))\n",
    "\n",
    "    model.compile(loss=\"mse\", optimizer=\"rmsprop\")\n",
    "    return model"
   ]
  },
  {
   "cell_type": "code",
   "execution_count": 10,
   "metadata": {},
   "outputs": [
    {
     "name": "stdout",
     "output_type": "stream",
     "text": [
      "Epoch 1/100\n",
      "19/19 [==============================] - 8s 99ms/step - loss: 0.6905 - val_loss: 1.6943\n",
      "Epoch 2/100\n",
      "19/19 [==============================] - 1s 79ms/step - loss: 0.4339 - val_loss: 1.6114\n",
      "Epoch 3/100\n",
      "19/19 [==============================] - 1s 70ms/step - loss: 0.4059 - val_loss: 1.5161\n",
      "Epoch 4/100\n",
      "19/19 [==============================] - 1s 53ms/step - loss: 0.4289 - val_loss: 1.4421\n",
      "Epoch 5/100\n",
      "19/19 [==============================] - 1s 53ms/step - loss: 0.6513 - val_loss: 1.4005\n",
      "Epoch 6/100\n",
      "19/19 [==============================] - 1s 46ms/step - loss: 0.4214 - val_loss: 1.3549\n",
      "Epoch 7/100\n",
      "19/19 [==============================] - 1s 48ms/step - loss: 0.6375 - val_loss: 1.3413\n",
      "Epoch 8/100\n",
      "19/19 [==============================] - 1s 56ms/step - loss: 0.2591 - val_loss: 1.3586\n",
      "Epoch 9/100\n",
      "19/19 [==============================] - 1s 57ms/step - loss: 0.4174 - val_loss: 1.3206\n",
      "Epoch 10/100\n",
      "19/19 [==============================] - 1s 49ms/step - loss: 0.3118 - val_loss: 1.3324\n",
      "Epoch 11/100\n",
      "19/19 [==============================] - 1s 42ms/step - loss: 0.2746 - val_loss: 1.3086\n",
      "Epoch 12/100\n",
      "19/19 [==============================] - 1s 44ms/step - loss: 0.2902 - val_loss: 1.3002\n",
      "Epoch 13/100\n",
      "19/19 [==============================] - 1s 45ms/step - loss: 0.2852 - val_loss: 1.2874\n",
      "Epoch 14/100\n",
      "19/19 [==============================] - 1s 51ms/step - loss: 0.3201 - val_loss: 1.2983\n",
      "Epoch 15/100\n",
      "19/19 [==============================] - 1s 47ms/step - loss: 0.3428 - val_loss: 1.3143\n",
      "Epoch 16/100\n",
      "19/19 [==============================] - 1s 45ms/step - loss: 0.3519 - val_loss: 1.2887\n",
      "Epoch 17/100\n",
      "19/19 [==============================] - 1s 46ms/step - loss: 0.2482 - val_loss: 1.2925\n",
      "Epoch 18/100\n",
      "19/19 [==============================] - 1s 46ms/step - loss: 0.2423 - val_loss: 1.2859\n",
      "Epoch 19/100\n",
      "19/19 [==============================] - 1s 46ms/step - loss: 0.3943 - val_loss: 1.2979\n",
      "Epoch 20/100\n",
      "19/19 [==============================] - 1s 45ms/step - loss: 0.3005 - val_loss: 1.2797\n",
      "Epoch 21/100\n",
      "19/19 [==============================] - 1s 46ms/step - loss: 0.4183 - val_loss: 1.2799\n",
      "Epoch 22/100\n",
      "19/19 [==============================] - 1s 42ms/step - loss: 0.3145 - val_loss: 1.2858\n",
      "Epoch 23/100\n",
      "19/19 [==============================] - 1s 46ms/step - loss: 0.3957 - val_loss: 1.2981\n",
      "Epoch 24/100\n",
      "19/19 [==============================] - 1s 50ms/step - loss: 0.3726 - val_loss: 1.3015\n",
      "Epoch 25/100\n",
      "19/19 [==============================] - 1s 42ms/step - loss: 0.2820 - val_loss: 1.2922\n",
      "Epoch 26/100\n",
      "19/19 [==============================] - 1s 42ms/step - loss: 0.3032 - val_loss: 1.2965\n",
      "Epoch 27/100\n",
      "19/19 [==============================] - 1s 43ms/step - loss: 0.3106 - val_loss: 1.3013\n",
      "Epoch 28/100\n",
      "19/19 [==============================] - 1s 42ms/step - loss: 0.3177 - val_loss: 1.2961\n",
      "Epoch 29/100\n",
      "19/19 [==============================] - 1s 40ms/step - loss: 0.3217 - val_loss: 1.2956\n",
      "Epoch 30/100\n",
      "19/19 [==============================] - 1s 40ms/step - loss: 0.2849 - val_loss: 1.2923\n",
      "Epoch 31/100\n",
      "19/19 [==============================] - 1s 43ms/step - loss: 0.2555 - val_loss: 1.3366\n",
      "Epoch 32/100\n",
      "19/19 [==============================] - 1s 42ms/step - loss: 0.4024 - val_loss: 1.3156\n",
      "Epoch 33/100\n",
      "19/19 [==============================] - 1s 45ms/step - loss: 0.2774 - val_loss: 1.3129\n",
      "Epoch 34/100\n",
      "19/19 [==============================] - 1s 49ms/step - loss: 0.3687 - val_loss: 1.3040\n",
      "Epoch 35/100\n",
      "19/19 [==============================] - 1s 40ms/step - loss: 0.1832 - val_loss: 1.3064\n",
      "Epoch 36/100\n",
      "19/19 [==============================] - 1s 39ms/step - loss: 0.2405 - val_loss: 1.3415\n",
      "Epoch 37/100\n",
      "19/19 [==============================] - 1s 40ms/step - loss: 0.2856 - val_loss: 1.3313\n",
      "Epoch 38/100\n",
      "19/19 [==============================] - 1s 40ms/step - loss: 0.4044 - val_loss: 1.3157\n",
      "Epoch 39/100\n",
      "19/19 [==============================] - 1s 46ms/step - loss: 0.4729 - val_loss: 1.3409\n",
      "Epoch 40/100\n",
      "19/19 [==============================] - 1s 40ms/step - loss: 0.4140 - val_loss: 1.3253\n",
      "Epoch 41/100\n",
      "19/19 [==============================] - 1s 46ms/step - loss: 0.2239 - val_loss: 1.3273\n",
      "Epoch 42/100\n",
      "19/19 [==============================] - 1s 45ms/step - loss: 0.2947 - val_loss: 1.3331\n",
      "Epoch 43/100\n",
      "19/19 [==============================] - 1s 45ms/step - loss: 0.2477 - val_loss: 1.3092\n",
      "Epoch 44/100\n",
      "19/19 [==============================] - 1s 41ms/step - loss: 0.3021 - val_loss: 1.3297\n",
      "Epoch 45/100\n",
      "19/19 [==============================] - 1s 40ms/step - loss: 0.2545 - val_loss: 1.3257\n",
      "Epoch 46/100\n",
      "19/19 [==============================] - 1s 46ms/step - loss: 0.2853 - val_loss: 1.3574\n",
      "Epoch 47/100\n",
      "19/19 [==============================] - 1s 43ms/step - loss: 0.2723 - val_loss: 1.3627\n",
      "Epoch 48/100\n",
      "19/19 [==============================] - 1s 40ms/step - loss: 0.2394 - val_loss: 1.3663\n",
      "Epoch 49/100\n",
      "19/19 [==============================] - 1s 40ms/step - loss: 0.2483 - val_loss: 1.3402\n",
      "Epoch 50/100\n",
      "19/19 [==============================] - 1s 42ms/step - loss: 0.3276 - val_loss: 1.3325\n",
      "Epoch 51/100\n",
      "19/19 [==============================] - 1s 47ms/step - loss: 0.2604 - val_loss: 1.3340\n",
      "Epoch 52/100\n",
      "19/19 [==============================] - 1s 50ms/step - loss: 0.3277 - val_loss: 1.3581\n",
      "Epoch 53/100\n",
      "19/19 [==============================] - 1s 44ms/step - loss: 0.2946 - val_loss: 1.3670\n",
      "Epoch 54/100\n",
      "19/19 [==============================] - 1s 52ms/step - loss: 0.2028 - val_loss: 1.3784\n",
      "Epoch 55/100\n",
      "19/19 [==============================] - 1s 41ms/step - loss: 0.3132 - val_loss: 1.3719\n",
      "Epoch 56/100\n",
      "19/19 [==============================] - 1s 58ms/step - loss: 0.1840 - val_loss: 1.4272\n",
      "Epoch 57/100\n",
      "19/19 [==============================] - 1s 47ms/step - loss: 0.1844 - val_loss: 1.4027\n",
      "Epoch 58/100\n",
      "19/19 [==============================] - 1s 40ms/step - loss: 0.2549 - val_loss: 1.4620\n",
      "Epoch 59/100\n",
      "19/19 [==============================] - 1s 40ms/step - loss: 0.3207 - val_loss: 1.3593\n",
      "Epoch 60/100\n",
      "19/19 [==============================] - 1s 41ms/step - loss: 0.4087 - val_loss: 1.4465\n",
      "Epoch 61/100\n",
      "19/19 [==============================] - 1s 39ms/step - loss: 0.4277 - val_loss: 1.4602\n",
      "Epoch 62/100\n",
      "19/19 [==============================] - 1s 40ms/step - loss: 0.3501 - val_loss: 1.3994\n",
      "Epoch 63/100\n",
      "19/19 [==============================] - 1s 41ms/step - loss: 0.4038 - val_loss: 1.4524\n",
      "Epoch 64/100\n",
      "19/19 [==============================] - 1s 40ms/step - loss: 0.3295 - val_loss: 1.3651\n",
      "Epoch 65/100\n",
      "19/19 [==============================] - 1s 39ms/step - loss: 0.2921 - val_loss: 1.5027\n",
      "Epoch 66/100\n",
      "19/19 [==============================] - 1s 39ms/step - loss: 0.3282 - val_loss: 1.5238\n",
      "Epoch 67/100\n",
      "19/19 [==============================] - 1s 41ms/step - loss: 0.2748 - val_loss: 1.5297\n",
      "Epoch 68/100\n",
      "19/19 [==============================] - 1s 38ms/step - loss: 0.2258 - val_loss: 1.4353\n",
      "Epoch 69/100\n",
      "19/19 [==============================] - 1s 40ms/step - loss: 0.2031 - val_loss: 1.5601\n",
      "Epoch 70/100\n",
      "19/19 [==============================] - 1s 46ms/step - loss: 0.2727 - val_loss: 1.4155\n",
      "Epoch 71/100\n",
      "19/19 [==============================] - 1s 40ms/step - loss: 0.2348 - val_loss: 1.4888\n",
      "Epoch 72/100\n",
      "19/19 [==============================] - 1s 39ms/step - loss: 0.1774 - val_loss: 1.4325\n",
      "Epoch 73/100\n",
      "19/19 [==============================] - 1s 38ms/step - loss: 0.1991 - val_loss: 1.6242\n",
      "Epoch 74/100\n",
      "19/19 [==============================] - 1s 40ms/step - loss: 0.2077 - val_loss: 1.5129\n",
      "Epoch 75/100\n",
      "19/19 [==============================] - 1s 40ms/step - loss: 0.2165 - val_loss: 1.4526\n",
      "Epoch 76/100\n",
      "19/19 [==============================] - 1s 40ms/step - loss: 0.1788 - val_loss: 1.5204\n",
      "Epoch 77/100\n",
      "19/19 [==============================] - 1s 40ms/step - loss: 0.2334 - val_loss: 1.5722\n",
      "Epoch 78/100\n",
      "19/19 [==============================] - 1s 41ms/step - loss: 0.1702 - val_loss: 1.4201\n",
      "Epoch 79/100\n",
      "19/19 [==============================] - 1s 44ms/step - loss: 0.3975 - val_loss: 1.6805\n",
      "Epoch 80/100\n",
      "19/19 [==============================] - 1s 39ms/step - loss: 0.1463 - val_loss: 1.4904\n",
      "Epoch 81/100\n",
      "19/19 [==============================] - 1s 39ms/step - loss: 0.3033 - val_loss: 1.4298\n",
      "Epoch 82/100\n",
      "19/19 [==============================] - 1s 39ms/step - loss: 0.2083 - val_loss: 1.6285\n",
      "Epoch 83/100\n",
      "19/19 [==============================] - 1s 40ms/step - loss: 0.1530 - val_loss: 1.4841\n",
      "Epoch 84/100\n",
      "19/19 [==============================] - 1s 39ms/step - loss: 0.2523 - val_loss: 1.5468\n",
      "Epoch 85/100\n",
      "19/19 [==============================] - 1s 38ms/step - loss: 0.2371 - val_loss: 1.5440\n",
      "Epoch 86/100\n",
      "19/19 [==============================] - 1s 39ms/step - loss: 0.1669 - val_loss: 1.5093\n",
      "Epoch 87/100\n",
      "19/19 [==============================] - 1s 43ms/step - loss: 0.2398 - val_loss: 1.5850\n",
      "Epoch 88/100\n",
      "19/19 [==============================] - 1s 42ms/step - loss: 0.2254 - val_loss: 1.6850\n",
      "Epoch 89/100\n",
      "19/19 [==============================] - 1s 38ms/step - loss: 0.1932 - val_loss: 1.5155\n",
      "Epoch 90/100\n",
      "19/19 [==============================] - 1s 38ms/step - loss: 0.2853 - val_loss: 1.6283\n",
      "Epoch 91/100\n",
      "19/19 [==============================] - 1s 40ms/step - loss: 0.2385 - val_loss: 1.6468\n",
      "Epoch 92/100\n",
      "19/19 [==============================] - 1s 40ms/step - loss: 0.3239 - val_loss: 1.6176\n",
      "Epoch 93/100\n",
      "19/19 [==============================] - 1s 38ms/step - loss: 0.1574 - val_loss: 1.6571\n",
      "Epoch 94/100\n",
      "19/19 [==============================] - 1s 39ms/step - loss: 0.2629 - val_loss: 1.5492\n",
      "Epoch 95/100\n",
      "19/19 [==============================] - 1s 39ms/step - loss: 0.1790 - val_loss: 1.7561\n",
      "Epoch 96/100\n",
      "19/19 [==============================] - 1s 40ms/step - loss: 0.3195 - val_loss: 1.6067\n",
      "Epoch 97/100\n",
      "19/19 [==============================] - 1s 39ms/step - loss: 0.2328 - val_loss: 1.5096\n",
      "Epoch 98/100\n",
      "19/19 [==============================] - 1s 40ms/step - loss: 0.2603 - val_loss: 1.6725\n",
      "Epoch 99/100\n",
      "19/19 [==============================] - 1s 40ms/step - loss: 0.2121 - val_loss: 1.5448\n",
      "Epoch 100/100\n",
      "19/19 [==============================] - 1s 40ms/step - loss: 0.1793 - val_loss: 1.7131\n"
     ]
    },
    {
     "data": {
      "text/plain": [
       "<tensorflow.python.keras.callbacks.History at 0x62160f0>"
      ]
     },
     "execution_count": 10,
     "metadata": {},
     "output_type": "execute_result"
    }
   ],
   "source": [
    "model = build_model()\n",
    "model.fit(\n",
    "    x_train,\n",
    "    y_train,\n",
    "    batch_size=128,\n",
    "    epochs=100,\n",
    "    validation_split=0.05)"
   ]
  },
  {
   "cell_type": "code",
   "execution_count": 11,
   "metadata": {},
   "outputs": [],
   "source": [
    "def predict_point_by_point(model, data):\n",
    "    predicted = model.predict(data)\n",
    "    predicted = np.reshape(predicted, (predicted.size,))\n",
    "    return predicted"
   ]
  },
  {
   "cell_type": "code",
   "execution_count": 12,
   "metadata": {},
   "outputs": [],
   "source": [
    "x_test, y_test = load_data(data, SEQ_LEN, False)"
   ]
  },
  {
   "cell_type": "code",
   "execution_count": 13,
   "metadata": {},
   "outputs": [],
   "source": [
    "predicted_data = predict_point_by_point(model, x_test)"
   ]
  },
  {
   "cell_type": "code",
   "execution_count": 14,
   "metadata": {},
   "outputs": [],
   "source": [
    "def plot_results(predicted_data, true_data):\n",
    "    fig = plt.figure(figsize=(20,5))\n",
    "    plt.plot(true_data, 'r', label='True Data')\n",
    "    plt.plot(predicted_data, 'g', label='Prediction')\n",
    "    plt.show()"
   ]
  },
  {
   "cell_type": "code",
   "execution_count": 15,
   "metadata": {
    "scrolled": false
   },
   "outputs": [
    {
     "data": {
      "image/png": "[encoded data removed]",
      "text/plain": [
       "<Figure size 1440x360 with 1 Axes>"
      ]
     },
     "metadata": {
      "needs_background": "light"
     },
     "output_type": "display_data"
    }
   ],
   "source": [
    "plot_results(predicted_data, y_test)"
   ]
  },
  {
   "cell_type": "code",
   "execution_count": 16,
   "metadata": {},
   "outputs": [],
   "source": [
    "abnormal_idx = np.argmax(np.abs(predicted_data-y_test))"
   ]
  },
  {
   "cell_type": "code",
   "execution_count": 17,
   "metadata": {},
   "outputs": [
    {
     "data": {
      "text/plain": [
       "974"
      ]
     },
     "execution_count": 17,
     "metadata": {},
     "output_type": "execute_result"
    }
   ],
   "source": [
    "abnormal_idx"
   ]
  },
  {
   "cell_type": "code",
   "execution_count": 18,
   "metadata": {},
   "outputs": [],
   "source": [
    "abnormal_real_idx = abnormal_idx + SEQ_LEN"
   ]
  },
  {
   "cell_type": "code",
   "execution_count": 19,
   "metadata": {},
   "outputs": [
    {
     "data": {
      "text/plain": [
       "989"
      ]
     },
     "execution_count": 19,
     "metadata": {},
     "output_type": "execute_result"
    }
   ],
   "source": [
    "abnormal_real_idx"
   ]
  },
  {
   "cell_type": "code",
   "execution_count": 20,
   "metadata": {},
   "outputs": [],
   "source": [
    "abnormal_data = ori_data[abnormal_real_idx]"
   ]
  },
  {
   "cell_type": "code",
   "execution_count": 21,
   "metadata": {},
   "outputs": [
    {
     "data": {
      "text/plain": [
       "5059"
      ]
     },
     "execution_count": 21,
     "metadata": {},
     "output_type": "execute_result"
    }
   ],
   "source": [
    "abnormal_data"
   ]
  }
 ],
 "metadata": {
  "kernelspec": {
   "display_name": "Python 3",
   "language": "python",
   "name": "python3"
  },
  "language_info": {
   "codemirror_mode": {
    "name": "ipython",
    "version": 3
   },
   "file_extension": ".py",
   "mimetype": "text/x-python",
   "name": "python",
   "nbconvert_exporter": "python",
   "pygments_lexer": "ipython3",
   "version": "3.7.0"
  }
 },
 "nbformat": 4,
 "nbformat_minor": 2
}
