{
 "cells": [
  {
   "cell_type": "markdown",
   "metadata": {},
   "source": [
    "# 聚类网络攻击"
   ]
  },
  {
   "cell_type": "code",
   "execution_count": 1,
   "metadata": {},
   "outputs": [],
   "source": [
    "import scapy.all as scapy\n",
    "import os\n",
    "import numpy as np\n",
    "import hashlib\n",
    "from sklearn.cluster import DBSCAN,KMeans\n",
    "from matplotlib import pyplot as plt"
   ]
  },
  {
   "cell_type": "code",
   "execution_count": 2,
   "metadata": {},
   "outputs": [],
   "source": [
    "data_path = 'data/0.pcap'"
   ]
  },
  {
   "cell_type": "markdown",
   "metadata": {},
   "source": [
    "## 观看数据"
   ]
  },
  {
   "cell_type": "code",
   "execution_count": 3,
   "metadata": {
    "scrolled": false
   },
   "outputs": [
    {
     "name": "stdout",
     "output_type": "stream",
     "text": [
      "###[ Ethernet ]### \n",
      "  dst       = 00:50:56:bd:10:ba\n",
      "  src       = 00:50:56:bd:4a:f1\n",
      "  type      = IPv4\n",
      "###[ IP ]### \n",
      "     version   = 4\n",
      "     ihl       = 5\n",
      "     tos       = 0x0\n",
      "     len       = 1420\n",
      "     id        = 40586\n",
      "     flags     = DF\n",
      "     frag      = 0\n",
      "     ttl       = 64\n",
      "     proto     = tcp\n",
      "     chksum    = 0x71ae\n",
      "     src       = 198.19.20.5\n",
      "     dst       = 198.18.133.8\n",
      "     \\options   \\\n",
      "###[ TCP ]### \n",
      "        sport     = http\n",
      "        dport     = 58722\n",
      "        seq       = 3119809356\n",
      "        ack       = 425179630\n",
      "        dataofs   = 8\n",
      "        reserved  = 0\n",
      "        flags     = PA\n",
      "        window    = 235\n",
      "        chksum    = 0x91fd\n",
      "        urgptr    = 0\n",
      "        options   = [('NOP', None), ('NOP', None), ('Timestamp', (4820152, 949618283))]\n",
      "###[ Raw ]### \n",
      "           load      = 'n\\xbb\\x9cm\\xc5L\\xec\\x02\\xac\\xd6\\xcf.#]\\xbcw\\xa5x\\xad\\n\\x96#\\xe6\\x06\\x85\\x82\\x06\\'p\\xc1\\xa3\\xc9\\x88\\xe5?\\xadM\\xd9\\xa2\\x8d\\xf7 {[w\\x0b \\x1c\\x1e\\x05B\\xd1[\\x96\\xc2/\\xd6\\xa7\\x10\\xaa\\x94\\x19\\xf9I\\'\\x14\\xd1\\x11,\\xbb\\x07\\x06\\x8eff\\xd7B\\x85\\xde\\x9bo0\\xdc\\xb9\\xf4\\xdb^e\\xafxM|\\xe3}\\xa73E*\\x9c\\xf5\\xfeU\\xec\\x91\\xed\\x8c\\x12\\xde\\xb5^k(\\xeeS\\x12\\x90\\x01\\x19\\x04v>\\x95\\xe9a\\xf1\\xae\\x0b\\x95\\xece:7Z\\x1eU\\xa4x\\xce\\xfbNq\\xa7\\xeb\\x80\\xec\\'\\x01\\xfb\\xfe5\\xe9\\xb6\\xd7\\x16\\x97Q\\t\\xa0a$l8 \\xff\\x00:\\xe4u\\x8d\\x01f\\xb6{{\\x84\\x0e\\x01%_\\xbf\\xd3\\xe9\\\\-\\xbbk\\xde\\x16\\xddslw@\\xc7\\x94\\x1c\\xaf>\\xdd\\xab\\xb2\\xa6\\x1e\\x13\\\\\\xd01\\x8c\\xe5\\x17fw^.\\xbc[[&H\\xd7\\x19\\x1ds\\x9a\\xcf\\xd1\\xe3km\\x16(\\x0f,\\xe3{\\x7f\\xc0\\xb9\\xaekS\\xd7\"\\xd7\\xfc\\x8b[Q\\x89%eVF\\xe9\\xc7<b\\xbb\\xa2q\"@\\xab\\x8d\\xa0p=\\x07\\xf4\\xac\\xf99#fTl\\xe4j\\xda\\x82Ud\\x8f?J\\xd2S\\xb8d\\x1c\\x9c\\xe7\\x9a\\xa9f\\x8e\\xbb\\x9c\\x9c\\x028\\xfa\\xd5\\xb5\\x03\\n\\xc7\\x96\\xe9^eH&\\xce\\x90vc\\xc8\\xfb\\xbe\\xb4\\xc8\\xdd\\xba\\x9e1R\\xb8!v\\x0eI4\\x10\\xc3\\x00\\x9c\\xd2Q\\xb0\\x16c\\x9f\\xa3\"\\xf2z\\xff\\x00\\x8d/\\x9b\\x99\\x0e\\xfe\\x1c\\x9c\\xe7\\xb5V\\xdb\\xb3\\x96\\xe4W\\x1f\\xad\\xf8\\x80\\xc7\\'\\xf6n\\x90<\\xc9\\xdf\\x83\\xdc(\\xf6\\xf7\\xa7K\\x0f*\\x92\\xb2&RH\\xbb\\xaex\\x84[n\\xd2\\xec\\x00{\\xa788\\xe7\\x19\\xac\\xcd3E[\\x1f\\xf8\\x9a\\xebm\\xbav\\xe5\\x07\\xf1d\\xff\\x00J\\xd4\\xd2\\xf4\\xebo\\x0eA\\xf6\\xdb\\xb5\\x17\\x17\\xd3\\x0c\\xe7\\xa9\\x07\\xde\\xaf\\xdbZ\\xdc\\xcf1\\xbe\\xbf\\xf9\\xd9\\xba\\x03\\xfc9\\xafU\\xc64cfr\\xf39\\xbb\\x13Cc-\\xf9\\x17w\\xe3\\x18\\x1f*\\xf4\\x02\\xb4L \\x85B\\x7f*\"$\\x00\\xacO\\x19\\xdd\\x9f\\xd2\\x9c\\xa4\\x80\\x14\\xf3\\x8e\\xbd\\xba\\xd7\\x93Z\\xb3\\x93:\\xa1\\x05\\x1d\\x10\\xe6\\x81\\x19\\x81^G\\xd7\\xd2\\x9a\\x8b\\x87-\\x17A\\xc1\\xcd#oP\\xbeX\\x03\\xd6\\x91<\\xc0\\x14\\xbf\\xbeqX\\x14\\x0f\\xf7\\x8a\\xe6\\xb1u;\\x8f!\\x04\\x8a~R\\x0fJ\\xd6y\\n\\xc6Y\\x878\\xae\\x13\\xc4\\xd7\\xadod\\xca\\x0e\\x07\\xbdu\\xe1\\xe8\\xdfp{3\\xc9u\\xf9\\xcd\\xd5\\xc3\\xba\\xf3\\xf3c?J\\xe9>\\x1eM\\x1f\\xef\\xed\\x07=\\x18\\x7fZ.t\\xc8\\xd3\\xc3\"v_\\x9d\\xdc\\xb9>\\xc7\\xa5`x&\\x7f\\xb1k\\xd1,\\x87\\x1ekl#\\xeb\\xff\\x00\\xd7\\xaf~Q\\xe6\\xa4\\xd1\\xc2\\xa5i\\x1fEFY\\x17!s\\x9fOJ\\x9dd\\xd8I^=\\xcdU]\\xc5\\x07\\x07i\\xe9\\xefS\\x80\\xa5J\\xe3\\xe6\\xe0\\xfaW\\xcd\\xcaV;\\x87\\x1b\\x86\\x80\\x1c\\xf2G\\x07\\xf1\\xac;\\x14\\xddw\\xb9x\\xf9\\x89<\\xfa\\xd6\\xcc\\xac\\xbf|\\x0c\\x80\\t\\xfd+\\x1bK\\x11*y\\x92\\xe7;s\\xfa\\xd7~\\n;\\x9c\\x98\\x96\\xf64\\xecX%\\xb1Rv\\x12O\\xd0\\x80j\\xc9,\\xa3j\\xfc\\xd9\\xf5\\xe9U\\xed\\x92$\\xb5E#$\\xe7\\xaf\\xd6\\xaf(\\x94\\x0c)\\xe3\\xb7\\x02\\xb9j\\xfcl\\xe8\\xa7\\xf0\\x9eq\\xf1\\x12\\xc4\\xdci+/_-\\xb2p;W\\x9d\\xf8\\x02\\xf0\\xd9\\xeb\\xe9\\x93\\xb4H\\xa5H\\xfeU\\xeez\\xd5\\x9b_i\\xd2\\xdb}\\xe2T\\xfeb\\xbei\\xb7\\x96]?UIW\\x82\\x8e\\x05z\\xb8Is\\xd1p0\\xae\\xed5#\\xea\\xcd\\xbf8\\r\\xdb\\x9av\\xfd\\xc9\\xc8\\xc6\\x05S\\xb3\\x97\\xcf\\xb6\\x8e\\xe79\\xde\\xa0\\xd6\\x93\\x86\\xfb\\xab\\xb4\\x93\\x8c~\\x15\\xe0I4\\xf5:\\x96\\xa4n[j\\x84\\xeb\\xb8\\x1f\\xc2\\x9c\\xe4\\x85\\xc1\\xed\\x8f\\xcf\\xad9\\x81\\x03{\\xf7=j\\xbc\\xf2H!\\x93\\x03\\xa0<\\xfb\\x8e+JKR\\x9a\\xf7Y\\xc8\\xe9\\x1c#3\\x7f\\x13\\x13\\x9a\\xd3\\xb9\\xbe\\x8e\\xdbOi\\x18\\xf0wsU4\\x94Cn\\xce\\xdd\\x94c\\xdc\\xd7\\x1d\\xe2\\xeb\\xc9\\r\\xbczm\\xb9\\xf9\\xa4lc\\xeak\\xdd\\xa9N\\xfaX\\xe2\\x8e\\xec\\xa9\\xe1\\xc8[Q\\xd5%\\xd6\\xee\\x06\\xe4\\x84\\x95Os]\\xfcv\\xf2K!f`GP=+&\\xce\\xcdt\\xcbH\\xb4\\xf8N0\\x01n:\\x93[\\xd1\\x16BU\\x00#\\xa6k\\x86\\xbd_\\xb2kA_VZ\\x0b&\\x019\\x00p\\x0e:\\xd4\\xe0\\xb6N~\\xee84\\xd8\\xae\\x9d#\\x0b&O`;qK%\\xd4\\x022\\xd2p\\x07Q^m\\x9bgT\\xa0\\x92\\xb9^\\xe6qmm\\xe6\\x13\\xf3\\x9c\\x00?\\n\\xe6\\xed\\xacn.Yn\\xa4\\x04\\x865\\x15\\xd5\\xe3]]f\\x13\\x84R6{z\\xd7]\\xa7\\x89\\x96\\xc8\\x17\\xf9I\\x03\\x03\\xae\\x00\\xfaW\\xa5M\\xfb(_\\xa9\\xc5\\'\\xcf\"kh^8\\xcaE\\xe83\\x80\\x07\\xf3\\xa9DCq\\x00\\x1d\\xc7\\x90}E7\\xcf\\xb8T9\\\\\\x92z\\xd2\\xfd\\xbaH\\xf0\\xd2\\xaer3\\xf8W\\x9dRnN\\xec\\xe8J\\xda\\x12\\xf9g`A\\x95\\x15\\x85\\xae\\xe8\\xa3P\\x83\\xcd\\x88bU\\xce\\xccu\\xc0\\xad\\xb5\\xbeI\\x1fb\\x06\\xc1\\xf5\\xe9A\\xba\\x8d1\\xd4\\x11\\xd3\\x1d\\xe9\\xd3\\x9c\\x93\\xbcJ\\xa9N-X\\xf3\\xebK\\x91y\\x00\\xd2ul\\xf9\\x89\\x9d\\x8cA\\xf9H\\xe9\\x8a\\xdc\\x8f\\xc4\\xb0i\\xd6\\xef\\xfd\\xb2\\xb81\\x03\\xb5\\x88\\xfb\\xc0t\\xe7\\xa15W\\xc5\\x11i\\xf1\\xdb\\x8dA\\xa41:\\x9c`\\xf7?J\\xc9\\x8e\\xe6\\xd3Z\\xd3?\\xb3\\xaf\\xd3s\\x0f\\xb8\\xc2\\xbd\\xc5\\x15R)\\xc8\\xe0I\\xc3C\\xcc\\xf5]Z\\xfb\\xc6\\x1a\\x90n\\x96\\xf9\\xf9#\\x1d\\x87l\\xd7\\xab\\xf8S\\xc2\\x11\\xdbD.n\\x00\\xdf\\x80G\\xb5S\\xf0\\xb6\\x89imu\"K\\x85\\x91:\\x0cr\\x7f\\xcf\\xb5z\\x94'\n",
      "\n"
     ]
    }
   ],
   "source": [
    "view_p = scapy.rdpcap(data_path)\n",
    "view_p[5].show()"
   ]
  },
  {
   "cell_type": "markdown",
   "metadata": {},
   "source": [
    "## 数据载入与处理"
   ]
  },
  {
   "cell_type": "code",
   "execution_count": 4,
   "metadata": {},
   "outputs": [
    {
     "name": "stdout",
     "output_type": "stream",
     "text": [
      "数据维度：(366, 64)\n"
     ]
    }
   ],
   "source": [
    "def make_data(data_path):\n",
    "    datas = []\n",
    "    data_index = []\n",
    "    sha256 = hashlib.sha256()\n",
    "    packets = scapy.rdpcap(data_path)\n",
    "    for i,packet in enumerate(packets):\n",
    "        this_data = []\n",
    "        try:\n",
    "            sha256.update(packet.load)\n",
    "            payload = sha256.hexdigest()\n",
    "            for char in payload:\n",
    "                this_data.append(int(char,16)/15.0)\n",
    "            data = np.array(this_data)\n",
    "            datas.append(data)\n",
    "            data_index.append(i)\n",
    "        except:\n",
    "            continue\n",
    "        \n",
    "           \n",
    "    return np.array(datas),data_index\n",
    "\n",
    "datas,data_index = make_data(data_path)\n",
    "print(\"数据维度：{}\".format(datas.shape))"
   ]
  },
  {
   "cell_type": "code",
   "execution_count": 5,
   "metadata": {},
   "outputs": [
    {
     "name": "stdout",
     "output_type": "stream",
     "text": [
      "数据维度：(12, 64)\n"
     ]
    }
   ],
   "source": [
    "# 攻击包\n",
    "att_data = 'data/1、防御直接攻击-ACL and no-IPS-01.pcap'\n",
    "datas,data_index = make_data(att_data)\n",
    "print(\"数据维度：{}\".format(datas.shape))"
   ]
  },
  {
   "cell_type": "markdown",
   "metadata": {
    "scrolled": false
   },
   "source": [
    "## 模型训练"
   ]
  },
  {
   "cell_type": "code",
   "execution_count": 6,
   "metadata": {
    "scrolled": false
   },
   "outputs": [
    {
     "name": "stdout",
     "output_type": "stream",
     "text": [
      "[3 0 0 4 2 2 4 4 1 1 3 2]\n"
     ]
    }
   ],
   "source": [
    "# k-mean 模型\n",
    "kmean_model = KMeans(5).fit(datas)\n",
    "kmean_labels = kmean_model.labels_\n",
    "print(kmean_labels)"
   ]
  },
  {
   "cell_type": "code",
   "execution_count": 17,
   "metadata": {},
   "outputs": [
    {
     "name": "stdout",
     "output_type": "stream",
     "text": [
      "[ 0 -1 -1 -1 -1  1  2  2  1 -1  0 -1]\n"
     ]
    }
   ],
   "source": [
    "# DBSCAN 模型\n",
    "db_model = DBSCAN(eps=3.1, min_samples=2).fit(datas)\n",
    "db_labels = db_model.labels_\n",
    "print(db_labels)"
   ]
  },
  {
   "cell_type": "code",
   "execution_count": 18,
   "metadata": {},
   "outputs": [
    {
     "data": {
      "text/plain": [
       "[3, 5, 6, 7, 8, 9, 10, 11, 12, 13, 14, 21]"
      ]
     },
     "execution_count": 18,
     "metadata": {},
     "output_type": "execute_result"
    }
   ],
   "source": [
    "data_index"
   ]
  },
  {
   "cell_type": "code",
   "execution_count": 19,
   "metadata": {},
   "outputs": [
    {
     "data": {
      "text/plain": [
       "b'ker tag - Pick a time</a></li>\\n\\t\\t\\t\\t\\t\\t\\t\\t\\t\\n\\t\\t\\t\\t\\t\\t\\t\\t</ul>\\n\\t\\t\\t\\t\\t\\t\\t</li>\\n\\t\\t\\t\\t\\t\\t</ul>\\n\\t\\t\\t\\t\\t</li>\\n\\t\\t\\t\\t\\t<li class=\"dropdown\">\\n\\t\\t\\t\\t\\t\\t<a href=\"#\" class=\"dropdown-toggle\" data-toggle=\"dropdown\">File<b class=\"caret\"></b></a>\\n\\t\\t\\t\\t\\t\\t<ul class=\"dropdown-menu\">\\n\\t\\t\\t\\t\\t\\t\\t<li><a href=\"/struts2-showcase/filedownload/index.action;jsessionid=E526E0E3CAC63D2DCFFC0F7D154BA001\">File Download</a></li>\\n\\t\\t\\t\\t\\t\\t\\t<li class=\"dropdown-submenu\">\\n\\t\\t\\t\\t\\t\\t\\t\\t<a href=\"#\">File Upload</a>\\n\\t\\t\\t\\t\\t\\t\\t\\t<ul class=\"dropdown-menu\">\\n\\t\\t\\t\\t\\t\\t\\t\\t\\t<li>\\n\\t\\t\\t\\t\\t\\t\\t\\t\\t\\t\\n\\t\\t\\t\\t\\t\\t\\t\\t\\t\\t<a href=\"/struts2-showcase/fileupload/upload.action;jsessionid=E526E0E3CAC63D2DCFFC0F7D154BA001\">Single File Upload</a>\\n\\t\\t\\t\\t\\t\\t\\t\\t\\t</li>\\n\\t\\t\\t\\t\\t\\t\\t\\t\\t<li>\\n\\t\\t\\t\\t\\t\\t\\t\\t\\t\\t\\n\\t\\t\\t\\t\\t\\t\\t\\t\\t\\t<a href=\"/struts2-showcase/fileupload/multipleUploadUsingList.action;jsessionid=E526E0E3CAC63D2DCFFC0F7D154BA001\">Multiple File Upload (List)</a>\\n\\n\\t\\t\\t\\t\\t\\t\\t\\t\\t</li>\\n\\t\\t\\t\\t\\t\\t\\t\\t\\t<li>\\n\\t\\t\\t\\t\\t\\t\\t\\t\\t\\t\\n\\t\\t\\t\\t\\t\\t\\t\\t\\t\\t<a href=\"/struts2-showcase/fileupload/multipleUploadUsingArray.action;jsessionid=E526E0E3CAC63D2DCFFC0F7D154BA001\">Multiple File Upload (Array)</a>\\n\\t\\t\\t\\t\\t\\t\\t\\t\\t</li>\\n\\t\\t\\t\\t\\t\\t\\t\\t</ul>\\n\\t\\t\\t\\t\\t\\t\\t</li>\\n\\t\\t\\t\\t\\t\\t</ul>\\n\\t\\t\\t\\t\\t</li>\\n\\t\\t\\t\\t\\t<li class=\"dropdown\">\\n\\t\\t\\t\\t\\t\\t<a href=\"#\" class=\"dropdown-toggle\" data-toggle=\"dropdown\">Examples<b class=\"caret\"></b></a>\\n\\t\\t\\t\\t\\t\\t<ul class=\"dropdown-menu\">\\n\\t\\t\\t\\t\\t\\t\\t<li class=\"dropdown-submenu\">\\n\\t\\t\\t\\t\\t\\t\\t\\t<a href=\"#\">Hangman</a>\\n\\t\\t\\t\\t\\t\\t\\t\\t<ul class=\"drop'"
      ]
     },
     "execution_count": 19,
     "metadata": {},
     "output_type": "execute_result"
    }
   ],
   "source": [
    "view_p = scapy.rdpcap(att_data)\n",
    "view_p[10].load"
   ]
  },
  {
   "cell_type": "code",
   "execution_count": 20,
   "metadata": {},
   "outputs": [
    {
     "data": {
      "text/plain": [
       "b'down-menu\">\\n\\t\\t\\t\\t\\t\\t\\t\\t\\t<li><a href=\"/struts2-showcase/hangman/hangmanNonAjax.action;jsessionid=E526E0E3CAC63D2DCFFC0F7D154BA001\">Hangman (Non Ajax)</a></li>\\n\\t\\t\\t\\t\\t\\t\\t\\t\\t<li><a href=\"/struts2-showcase/hangman/hangmanAjax.action;j\\r\\n1355\\r\\nsessionid=E526E0E3CAC63D2DCFFC0F7D154BA001\">Hangman (Ajax - Experimental)</a></li>\\n\\t\\t\\t\\t\\t\\t\\t\\t</ul>\\n\\t\\t\\t\\t\\t\\t\\t</li>\\n\\t\\t\\t\\t\\t\\t\\t<li><a href=\"/struts2-showcase/person/index.html;jsessionid=E526E0E3CAC63D2DCFFC0F7D154BA001\">Person Manager</a></li>\\n\\t\\t\\t\\t\\t\\t\\t<li><a href=\"/struts2-showcase/skill/index.html;jsessionid=E526E0E3CAC63D2DCFFC0F7D154BA001\">CRUD</a></li>\\n\\t\\t\\t\\t\\t\\t\\t<li><a href=\"/struts2-showcase/wait/index.html;jsessionid=E526E0E3CAC63D2DCFFC0F7D154BA001\">Execute &amp; Wait</a></li>\\n\\t\\t\\t\\t\\t\\t\\t<li><a href=\"/struts2-showcase/token/index.html;jsessionid=E526E0E3CAC63D2DCFFC0F7D154BA001\">Token</a></li>\\n\\t\\t\\t\\t\\t\\t\\t<li><a href=\"/struts2-showcase/validation/index.action;jsessionid=E526E0E3CAC63D2DCFFC0F7D154BA001\">Validation</a></li>\\n\\t\\t\\t\\t\\t\\t\\t<li><a href=\"/struts2-showcase/modelDriven/modelDriven.action;jsessionid=E526E0E3CAC63D2DCFFC0F7D154BA001\">Model Driven</a></li>\\n\\t\\t\\t\\t\\t\\t</ul>\\n\\t\\t\\t\\t\\t</li>\\n\\t\\t\\t\\t\\t<li class=\"dropdown\">\\n\\t\\t\\t\\t\\t\\t<a href=\"#\" class=\"dropdown-toggle\" data-toggle=\"dropdown\">Integration<b class=\"caret\"></b></a>\\n\\t\\t\\t\\t\\t\\t<ul class=\"dropdown-menu\">\\n\\t\\t\\t\\t\\t\\t\\t<li class=\"dropdown-submenu\">\\n\\t\\t\\t\\t\\t\\t\\t\\t<a href=\"#\">Freemarker</a>\\n\\t\\t\\t\\t\\t\\t\\t\\t<ul class=\"dropdow'"
      ]
     },
     "execution_count": 20,
     "metadata": {},
     "output_type": "execute_result"
    }
   ],
   "source": [
    "view_p[11].load"
   ]
  },
  {
   "cell_type": "code",
   "execution_count": null,
   "metadata": {},
   "outputs": [],
   "source": []
  }
 ],
 "metadata": {
  "kernelspec": {
   "display_name": "Python 3",
   "language": "python",
   "name": "python3"
  },
  "language_info": {
   "codemirror_mode": {
    "name": "ipython",
    "version": 3
   },
   "file_extension": ".py",
   "mimetype": "text/x-python",
   "name": "python",
   "nbconvert_exporter": "python",
   "pygments_lexer": "ipython3",
   "version": "3.7.0"
  }
 },
 "nbformat": 4,
 "nbformat_minor": 2
}
